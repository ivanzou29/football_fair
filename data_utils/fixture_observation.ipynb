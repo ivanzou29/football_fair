{
 "cells": [
  {
   "cell_type": "markdown",
   "id": "64d75c8f",
   "metadata": {},
   "source": [
    "# Fixture Observation\n",
    "\n",
    "#### This script creates a fixture observation for each match, combining the home and away teams statistics, as well as the prediction target - pre-match odds"
   ]
  },
  {
   "cell_type": "code",
   "execution_count": 1,
   "id": "3711fdfc",
   "metadata": {},
   "outputs": [],
   "source": [
    "import boto3\n",
    "import pandas as pd\n",
    "import numpy as np\n",
    "import json\n",
    "from io import StringIO\n",
    "\n",
    "\n",
    "s3 = boto3.resource('s3')\n",
    "bucket_name = 'betfairex'\n",
    "\n",
    "\n",
    "def read_csv_from_s3(bucket_name, object_key):\n",
    "    response = s3.Object(bucket_name, object_key).get()\n",
    "\n",
    "    s3_contents = response['Body'].read()\n",
    "    df = pd.read_csv(StringIO(s3_contents.decode('utf-8')))\n",
    "\n",
    "    return df"
   ]
  },
  {
   "cell_type": "code",
   "execution_count": 2,
   "id": "376bfa95",
   "metadata": {},
   "outputs": [],
   "source": [
    "bucket = s3.Bucket(bucket_name)"
   ]
  },
  {
   "cell_type": "code",
   "execution_count": 3,
   "id": "80df7099",
   "metadata": {},
   "outputs": [],
   "source": [
    "all_keys = [obj.key for obj in bucket.objects.all()]\n",
    "\n",
    "# keys are in the regular expression as follows:\n",
    "# YYYY-MM-DD_[HOME_TEAM] v [AWAY_TEAM].csv"
   ]
  },
  {
   "cell_type": "code",
   "execution_count": 4,
   "id": "d438029f",
   "metadata": {},
   "outputs": [],
   "source": [
    "LEAGUE_INFO = pd.read_csv('league_info.csv')\n",
    "TEAM_INFO = pd.read_csv('team_info.csv')\n",
    "\n",
    "def get_match_info(object_key):\n",
    "    match_name = object_key[:-4]\n",
    "    match_date_str = match_name.split('_')[0]\n",
    "    fixture = match_name.split('_')[1]\n",
    "    home_team = fixture.split(' v ')[0]\n",
    "    away_team = fixture.split(' v ')[1]\n",
    "    \n",
    "    match_info = {\n",
    "        'match_date': match_date_str,\n",
    "        'home_team': home_team,\n",
    "        'away_team': away_team,\n",
    "    }    \n",
    "    return match_info\n",
    "\n",
    "def get_betfair_exchange_prematch_odds(bucket_name, object_key):\n",
    "    match_info = get_match_info(object_key)\n",
    "    \n",
    "    odds_df = read_csv_from_s3(bucket_name, object_key)\n",
    "    \n",
    "    odds_df = odds_df.sort_values(\"timestamp\", ascending=True)\n",
    "    prematch_df = odds_df[~odds_df['inplay']]\n",
    "    \n",
    "    home_team_df = prematch_df[prematch_df['selection'] == match_info['home_team']]\n",
    "    away_team_df = prematch_df[prematch_df['selection'] == match_info['away_team']]\n",
    "    draw_df = prematch_df[prematch_df['selection'] == \"Draw\"]\n",
    "    \n",
    "    home_prematch_odds = home_team_df.tail(1)['odds'].iloc[0]\n",
    "    away_prematch_odds = away_team_df.tail(1)['odds'].iloc[0]\n",
    "    draw_prematch_odds = draw_df.tail(1)['odds'].iloc[0]\n",
    "    \n",
    "    prematch_odds = {\n",
    "        'match_date': match_info['match_date'],\n",
    "        match_info['home_team']: home_prematch_odds,\n",
    "        match_info['away_team']: away_prematch_odds,\n",
    "        'Draw': draw_prematch_odds\n",
    "    }\n",
    "    return prematch_odds    \n",
    "    "
   ]
  },
  {
   "cell_type": "code",
   "execution_count": 6,
   "id": "aa0a4533",
   "metadata": {},
   "outputs": [],
   "source": [
    "TEAM_MAPPING_BETFAIR_TO_APIFOOTBALL = {\n",
    "    \"Athletic Bilbao\": \"Athletic Club\",\n",
    "    \"Betis\": \"Real Betis\"\n",
    "}"
   ]
  },
  {
   "cell_type": "code",
   "execution_count": 10,
   "id": "6e893225",
   "metadata": {},
   "outputs": [],
   "source": [
    "# Configuration constants\n",
    "\n",
    "SERVER = \"v3.football.api-sports.io\"\n",
    "API_KEY = \"1f5008c4f33481203631d90c7a81c5e5\"\n",
    "\n",
    "from pandas.tseries.offsets import Day\n",
    "import http.client\n",
    "import datetime as dt\n",
    "\n",
    "SERVER = \"v3.football.api-sports.io\"\n",
    "\n",
    "\n",
    "\n",
    "conn = http.client.HTTPSConnection(SERVER)\n",
    "\n",
    "headers = {\n",
    "  'x-rapidapi-host': SERVER,\n",
    "  'x-rapidapi-key': API_KEY\n",
    "}\n",
    "\n",
    "\n",
    "def get_team_stats(season, league_id, team_id, as_of_date):\n",
    "    # as_of_date in format YYYY-MM-DD\n",
    "    conn.request(\"GET\", \"/teams/statistics?season=%s&league=%s&team=%s&date=%s\" % (season, league_id, team_id, as_of_date), headers=headers)\n",
    "    res = conn.getresponse()\n",
    "    data = res.read()\n",
    "\n",
    "    team_stats_raw = data.decode(\"utf-8\")\n",
    "    team_stats = json.loads(team_stats_raw)[\"response\"]\n",
    "    \n",
    "    return team_stats\n",
    "    \n",
    "def get_team_stats_for_fixture(object_key):\n",
    "    match_info = get_match_info(object_key)\n",
    "    \n",
    "    match_date = match_info['match_date']\n",
    "    match_date = dt.datetime.strptime(match_date, \"%Y-%m-%d\")\n",
    "    as_of_date = match_date - Day(1)\n",
    "    as_of_date = as_of_date.strftime(\"%Y-%m-%d\")\n",
    "\n",
    "    match_year = match_date.year\n",
    "    match_month = match_date.month\n",
    "    \n",
    "    if match_month <= 6:\n",
    "        match_year -= 1\n",
    "\n",
    "    \n",
    "    home_team = TEAM_MAPPING_BETFAIR_TO_APIFOOTBALL.get(match_info['home_team'], match_info['home_team'])\n",
    "    home_team_info = TEAM_INFO.query(\"name == @home_team\").to_dict('records')[0]\n",
    "    home_team_id = home_team_info['team_id']\n",
    "    home_team_league_id = home_team_info['league_id']\n",
    "    home_team_stats = get_team_stats(match_year, home_team_league_id, home_team_id, as_of_date)\n",
    "    \n",
    "    \n",
    "    away_team = TEAM_MAPPING_BETFAIR_TO_APIFOOTBALL.get(match_info['away_team'], match_info['away_team'])\n",
    "    away_team_info = TEAM_INFO.query(\"name == @away_team\").to_dict('records')[0]\n",
    "    away_team_id = away_team_info['team_id']\n",
    "    away_team_league_id = away_team_info['league_id']\n",
    "    away_team_stats = get_team_stats(match_year, away_team_league_id, away_team_id, as_of_date)\n",
    "    \n",
    "    return home_team_stats, away_team_stats\n",
    "    "
   ]
  },
  {
   "cell_type": "code",
   "execution_count": 11,
   "id": "6d95bc21",
   "metadata": {},
   "outputs": [],
   "source": [
    "def calc_form_score(form):\n",
    "    form = form[-6:]\n",
    "    form_dict = {\n",
    "        'W': 1,\n",
    "        'D': 0,\n",
    "        'L': -1\n",
    "    }\n",
    "    \n",
    "    form_score = 0\n",
    "    for res in form[:3]:\n",
    "        form_score += 0.5 * form_dict[res]\n",
    "    for res in form[3:]:\n",
    "        form_score += 1 * form_dict[res]\n",
    "    return form_score\n",
    "\n",
    "def generate_features(object_key):\n",
    "    row = {}\n",
    "    match_info = get_match_info(object_key)\n",
    "    \n",
    "    # Index\n",
    "    row['match_date'] = match_info['match_date']\n",
    "    row['home_team'] = match_info['home_team']\n",
    "    row['away_team'] = match_info['away_team']\n",
    "    \n",
    "    # Features\n",
    "    home_team_stats, away_team_stats = get_team_stats_for_fixture(object_key)\n",
    "    \n",
    "    row['home_team_avg_home_goals'] = home_team_stats['goals']['for']['average']['home']\n",
    "    row['home_team_avg_total_goals'] = home_team_stats['goals']['for']['average']['total']\n",
    "    row['away_team_avg_away_goals'] = away_team_stats['goals']['for']['average']['away']\n",
    "    row['away_team_avg_total_goals'] = away_team_stats['goals']['for']['average']['total']\n",
    "    \n",
    "    row['home_team_form_score'] = calc_form_score(home_team_stats['form'])\n",
    "    row['away_team_form_score'] = calc_form_score(away_team_stats['form'])\n",
    "    \n",
    "    # Labels\n",
    "    prematch_odds = get_betfair_exchange_prematch_odds(bucket_name, object_key)\n",
    "    row['odds_home_team'] = prematch_odds[match_info['home_team']]\n",
    "    row['odds_away_team'] = prematch_odds[match_info['away_team']]\n",
    "    row['odds_draw'] = prematch_odds['Draw']\n",
    "    \n",
    "    return row"
   ]
  },
  {
   "cell_type": "code",
   "execution_count": 15,
   "id": "f0ae7a1b",
   "metadata": {},
   "outputs": [
    {
     "name": "stderr",
     "output_type": "stream",
     "text": [
      " 40%|████████████████▎                        | 187/469 [00:56<00:51,  5.51it/s]"
     ]
    },
    {
     "name": "stdout",
     "output_type": "stream",
     "text": [
      "Failed to generate feature for 2024-05-19_Valencia v Girona.csv.\n",
      "Failed to generate feature for 2024-05-19_Betis v Real Sociedad.csv.\n",
      "Failed to generate feature for 2024-05-19_Barcelona v Rayo Vallecano.csv.\n",
      "Failed to generate feature for 2024-05-19_Atletico Madrid v Osasuna.csv.\n"
     ]
    },
    {
     "name": "stderr",
     "output_type": "stream",
     "text": [
      " 41%|████████████████▋                        | 191/469 [00:56<00:38,  7.22it/s]"
     ]
    },
    {
     "name": "stdout",
     "output_type": "stream",
     "text": [
      "Failed to generate feature for 2024-05-19_Athletic Bilbao v Sevilla.csv.\n",
      "Failed to generate feature for 2024-05-19_Alaves v Getafe.csv.\n",
      "Failed to generate feature for 2024-05-16_Real Sociedad v Valencia.csv.\n",
      "Failed to generate feature for 2024-05-16_Las Palmas v Betis.csv.\n"
     ]
    },
    {
     "name": "stderr",
     "output_type": "stream",
     "text": [
      " 42%|█████████████████                        | 195/469 [00:56<00:30,  9.03it/s]"
     ]
    },
    {
     "name": "stdout",
     "output_type": "stream",
     "text": [
      "Failed to generate feature for 2024-05-15_Getafe v Atletico Madrid.csv.\n",
      "Failed to generate feature for 2024-05-15_Celta Vigo v Athletic Bilbao.csv.\n",
      "Failed to generate feature for 2024-05-14_Real Madrid v Alaves.csv.\n"
     ]
    },
    {
     "name": "stderr",
     "output_type": "stream",
     "text": [
      "\r",
      " 42%|█████████████████▏                       | 197/469 [00:57<00:26, 10.20it/s]"
     ]
    },
    {
     "name": "stdout",
     "output_type": "stream",
     "text": [
      "Failed to generate feature for 2024-05-14_Osasuna v Mallorca.csv.\n",
      "Failed to generate feature for 2024-05-14_Girona v Villarreal.csv.\n",
      "Failed to generate feature for 2024-05-13_Barcelona v Real Sociedad.csv.\n"
     ]
    },
    {
     "name": "stderr",
     "output_type": "stream",
     "text": [
      "\r",
      " 42%|█████████████████▍                       | 199/469 [00:57<00:24, 10.92it/s]"
     ]
    },
    {
     "name": "stdout",
     "output_type": "stream",
     "text": [
      "Failed to generate feature for 2024-05-12_Valencia v Rayo Vallecano.csv.\n"
     ]
    },
    {
     "name": "stderr",
     "output_type": "stream",
     "text": [
      " 43%|█████████████████▋                       | 203/469 [01:07<05:00,  1.13s/it]"
     ]
    },
    {
     "name": "stdout",
     "output_type": "stream",
     "text": [
      "Failed to generate feature for 2024-05-11_Valladolid v Espanyol.csv.\n"
     ]
    },
    {
     "name": "stderr",
     "output_type": "stream",
     "text": [
      " 49%|████████████████████                     | 230/469 [01:11<00:31,  7.47it/s]"
     ]
    },
    {
     "name": "stdout",
     "output_type": "stream",
     "text": [
      "Failed to generate feature for 2024-04-12_Leganes v Espanyol.csv.\n"
     ]
    },
    {
     "name": "stderr",
     "output_type": "stream",
     "text": [
      " 62%|█████████████████████████▎               | 290/469 [01:34<00:41,  4.27it/s]"
     ]
    },
    {
     "name": "stdout",
     "output_type": "stream",
     "text": [
      "Failed to generate feature for 2024-02-03_Leganes v Valladolid.csv.\n"
     ]
    },
    {
     "name": "stderr",
     "output_type": "stream",
     "text": [
      " 70%|████████████████████████████▋            | 328/469 [01:54<00:34,  4.12it/s]"
     ]
    },
    {
     "name": "stdout",
     "output_type": "stream",
     "text": [
      "Failed to generate feature for 2024-01-06_Espanyol v Getafe.csv.\n"
     ]
    },
    {
     "name": "stderr",
     "output_type": "stream",
     "text": [
      " 77%|███████████████████████████████▍         | 359/469 [02:11<00:33,  3.32it/s]"
     ]
    },
    {
     "name": "stdout",
     "output_type": "stream",
     "text": [
      "Failed to generate feature for 2023-12-05_Espanyol v Valladolid.csv.\n"
     ]
    },
    {
     "name": "stderr",
     "output_type": "stream",
     "text": [
      " 80%|████████████████████████████████▊        | 375/469 [02:14<00:14,  6.44it/s]"
     ]
    },
    {
     "name": "stdout",
     "output_type": "stream",
     "text": [
      "Failed to generate feature for 2023-11-17_Valladolid v Leganes.csv.\n"
     ]
    },
    {
     "name": "stderr",
     "output_type": "stream",
     "text": [
      " 86%|███████████████████████████████████▎     | 404/469 [02:30<01:03,  1.03it/s]"
     ]
    },
    {
     "name": "stdout",
     "output_type": "stream",
     "text": [
      "Failed to generate feature for 2023-10-20_Espanyol v Leganes.csv.\n",
      "Failed to generate feature for 2023-10-14_Espanyol v Valladolid.csv.\n"
     ]
    },
    {
     "name": "stderr",
     "output_type": "stream",
     "text": [
      "100%|█████████████████████████████████████████| 469/469 [02:49<00:00,  2.77it/s]\n"
     ]
    }
   ],
   "source": [
    "from tqdm import tqdm\n",
    "import time\n",
    "rows = []\n",
    "\n",
    "\n",
    "for i in tqdm(range(1, len(all_keys) + 1)):\n",
    "    if i % 50 == 0:\n",
    "        time.sleep(10)\n",
    "    \n",
    "    key = all_keys[-i]\n",
    "    \n",
    "    match_info = get_match_info(key)\n",
    "    if match_info['match_date'][5:7] == '08':\n",
    "        continue\n",
    "    \n",
    "    try:\n",
    "        row = generate_features(key)\n",
    "        rows.append(row)\n",
    "    except:\n",
    "        print(\"Failed to generate feature for %s.\" % key)"
   ]
  },
  {
   "cell_type": "code",
   "execution_count": 16,
   "id": "d258246a",
   "metadata": {},
   "outputs": [],
   "source": [
    "df = pd.DataFrame.from_records(rows)"
   ]
  },
  {
   "cell_type": "code",
   "execution_count": 17,
   "id": "ded42d92",
   "metadata": {},
   "outputs": [
    {
     "data": {
      "text/html": [
       "<div>\n",
       "<style scoped>\n",
       "    .dataframe tbody tr th:only-of-type {\n",
       "        vertical-align: middle;\n",
       "    }\n",
       "\n",
       "    .dataframe tbody tr th {\n",
       "        vertical-align: top;\n",
       "    }\n",
       "\n",
       "    .dataframe thead th {\n",
       "        text-align: right;\n",
       "    }\n",
       "</style>\n",
       "<table border=\"1\" class=\"dataframe\">\n",
       "  <thead>\n",
       "    <tr style=\"text-align: right;\">\n",
       "      <th></th>\n",
       "      <th>match_date</th>\n",
       "      <th>home_team</th>\n",
       "      <th>away_team</th>\n",
       "      <th>home_team_avg_home_goals</th>\n",
       "      <th>home_team_avg_total_goals</th>\n",
       "      <th>away_team_avg_away_goals</th>\n",
       "      <th>away_team_avg_total_goals</th>\n",
       "      <th>home_team_form_score</th>\n",
       "      <th>away_team_form_score</th>\n",
       "      <th>odds_home_team</th>\n",
       "      <th>odds_away_team</th>\n",
       "      <th>odds_draw</th>\n",
       "    </tr>\n",
       "  </thead>\n",
       "  <tbody>\n",
       "    <tr>\n",
       "      <th>0</th>\n",
       "      <td>2024-12-20</td>\n",
       "      <td>Girona</td>\n",
       "      <td>Valladolid</td>\n",
       "      <td>1.9</td>\n",
       "      <td>1.4</td>\n",
       "      <td>0.8</td>\n",
       "      <td>0.7</td>\n",
       "      <td>-0.5</td>\n",
       "      <td>-2.0</td>\n",
       "      <td>1.38</td>\n",
       "      <td>11.5</td>\n",
       "      <td>5.30</td>\n",
       "    </tr>\n",
       "    <tr>\n",
       "      <th>1</th>\n",
       "      <td>2024-12-18</td>\n",
       "      <td>Villarreal</td>\n",
       "      <td>Rayo Vallecano</td>\n",
       "      <td>2.1</td>\n",
       "      <td>1.8</td>\n",
       "      <td>0.8</td>\n",
       "      <td>1.1</td>\n",
       "      <td>-1.0</td>\n",
       "      <td>-0.5</td>\n",
       "      <td>1.76</td>\n",
       "      <td>5.6</td>\n",
       "      <td>3.90</td>\n",
       "    </tr>\n",
       "    <tr>\n",
       "      <th>2</th>\n",
       "      <td>2024-12-18</td>\n",
       "      <td>Espanyol</td>\n",
       "      <td>Valencia</td>\n",
       "      <td>1.4</td>\n",
       "      <td>0.9</td>\n",
       "      <td>0.4</td>\n",
       "      <td>0.9</td>\n",
       "      <td>-1.5</td>\n",
       "      <td>-3.0</td>\n",
       "      <td>2.68</td>\n",
       "      <td>3.5</td>\n",
       "      <td>2.94</td>\n",
       "    </tr>\n",
       "    <tr>\n",
       "      <th>3</th>\n",
       "      <td>2024-12-15</td>\n",
       "      <td>Villarreal</td>\n",
       "      <td>Betis</td>\n",
       "      <td>2.3</td>\n",
       "      <td>1.8</td>\n",
       "      <td>0.8</td>\n",
       "      <td>1.1</td>\n",
       "      <td>0.0</td>\n",
       "      <td>-1.5</td>\n",
       "      <td>1.95</td>\n",
       "      <td>4.3</td>\n",
       "      <td>3.95</td>\n",
       "    </tr>\n",
       "    <tr>\n",
       "      <th>4</th>\n",
       "      <td>2024-12-15</td>\n",
       "      <td>Real Sociedad</td>\n",
       "      <td>Las Palmas</td>\n",
       "      <td>1.1</td>\n",
       "      <td>1.0</td>\n",
       "      <td>1.4</td>\n",
       "      <td>1.4</td>\n",
       "      <td>1.5</td>\n",
       "      <td>1.5</td>\n",
       "      <td>1.36</td>\n",
       "      <td>12.5</td>\n",
       "      <td>5.50</td>\n",
       "    </tr>\n",
       "    <tr>\n",
       "      <th>...</th>\n",
       "      <td>...</td>\n",
       "      <td>...</td>\n",
       "      <td>...</td>\n",
       "      <td>...</td>\n",
       "      <td>...</td>\n",
       "      <td>...</td>\n",
       "      <td>...</td>\n",
       "      <td>...</td>\n",
       "      <td>...</td>\n",
       "      <td>...</td>\n",
       "      <td>...</td>\n",
       "      <td>...</td>\n",
       "    </tr>\n",
       "    <tr>\n",
       "      <th>385</th>\n",
       "      <td>2023-09-03</td>\n",
       "      <td>Atletico Madrid</td>\n",
       "      <td>Sevilla</td>\n",
       "      <td>3.0</td>\n",
       "      <td>3.3</td>\n",
       "      <td>3.0</td>\n",
       "      <td>1.7</td>\n",
       "      <td>1.0</td>\n",
       "      <td>-1.5</td>\n",
       "      <td>1.59</td>\n",
       "      <td>7.0</td>\n",
       "      <td>4.60</td>\n",
       "    </tr>\n",
       "    <tr>\n",
       "      <th>386</th>\n",
       "      <td>2023-09-02</td>\n",
       "      <td>Real Madrid</td>\n",
       "      <td>Getafe</td>\n",
       "      <td>0.0</td>\n",
       "      <td>2.0</td>\n",
       "      <td>0.0</td>\n",
       "      <td>0.3</td>\n",
       "      <td>1.5</td>\n",
       "      <td>0.0</td>\n",
       "      <td>1.38</td>\n",
       "      <td>12.0</td>\n",
       "      <td>5.30</td>\n",
       "    </tr>\n",
       "    <tr>\n",
       "      <th>387</th>\n",
       "      <td>2023-09-02</td>\n",
       "      <td>Girona</td>\n",
       "      <td>Las Palmas</td>\n",
       "      <td>3.0</td>\n",
       "      <td>2.0</td>\n",
       "      <td>0.0</td>\n",
       "      <td>0.3</td>\n",
       "      <td>1.0</td>\n",
       "      <td>-0.5</td>\n",
       "      <td>1.68</td>\n",
       "      <td>6.2</td>\n",
       "      <td>4.00</td>\n",
       "    </tr>\n",
       "    <tr>\n",
       "      <th>388</th>\n",
       "      <td>2023-09-02</td>\n",
       "      <td>Betis</td>\n",
       "      <td>Rayo Vallecano</td>\n",
       "      <td>0.0</td>\n",
       "      <td>1.3</td>\n",
       "      <td>2.0</td>\n",
       "      <td>1.3</td>\n",
       "      <td>0.0</td>\n",
       "      <td>0.5</td>\n",
       "      <td>2.10</td>\n",
       "      <td>4.2</td>\n",
       "      <td>3.55</td>\n",
       "    </tr>\n",
       "    <tr>\n",
       "      <th>389</th>\n",
       "      <td>2023-09-02</td>\n",
       "      <td>Alaves</td>\n",
       "      <td>Valencia</td>\n",
       "      <td>4.0</td>\n",
       "      <td>1.3</td>\n",
       "      <td>2.0</td>\n",
       "      <td>1.3</td>\n",
       "      <td>-0.5</td>\n",
       "      <td>0.5</td>\n",
       "      <td>3.20</td>\n",
       "      <td>2.8</td>\n",
       "      <td>3.05</td>\n",
       "    </tr>\n",
       "  </tbody>\n",
       "</table>\n",
       "<p>390 rows × 12 columns</p>\n",
       "</div>"
      ],
      "text/plain": [
       "     match_date        home_team       away_team home_team_avg_home_goals  \\\n",
       "0    2024-12-20           Girona      Valladolid                      1.9   \n",
       "1    2024-12-18       Villarreal  Rayo Vallecano                      2.1   \n",
       "2    2024-12-18         Espanyol        Valencia                      1.4   \n",
       "3    2024-12-15       Villarreal           Betis                      2.3   \n",
       "4    2024-12-15    Real Sociedad      Las Palmas                      1.1   \n",
       "..          ...              ...             ...                      ...   \n",
       "385  2023-09-03  Atletico Madrid         Sevilla                      3.0   \n",
       "386  2023-09-02      Real Madrid          Getafe                      0.0   \n",
       "387  2023-09-02           Girona      Las Palmas                      3.0   \n",
       "388  2023-09-02            Betis  Rayo Vallecano                      0.0   \n",
       "389  2023-09-02           Alaves        Valencia                      4.0   \n",
       "\n",
       "    home_team_avg_total_goals away_team_avg_away_goals  \\\n",
       "0                         1.4                      0.8   \n",
       "1                         1.8                      0.8   \n",
       "2                         0.9                      0.4   \n",
       "3                         1.8                      0.8   \n",
       "4                         1.0                      1.4   \n",
       "..                        ...                      ...   \n",
       "385                       3.3                      3.0   \n",
       "386                       2.0                      0.0   \n",
       "387                       2.0                      0.0   \n",
       "388                       1.3                      2.0   \n",
       "389                       1.3                      2.0   \n",
       "\n",
       "    away_team_avg_total_goals  home_team_form_score  away_team_form_score  \\\n",
       "0                         0.7                  -0.5                  -2.0   \n",
       "1                         1.1                  -1.0                  -0.5   \n",
       "2                         0.9                  -1.5                  -3.0   \n",
       "3                         1.1                   0.0                  -1.5   \n",
       "4                         1.4                   1.5                   1.5   \n",
       "..                        ...                   ...                   ...   \n",
       "385                       1.7                   1.0                  -1.5   \n",
       "386                       0.3                   1.5                   0.0   \n",
       "387                       0.3                   1.0                  -0.5   \n",
       "388                       1.3                   0.0                   0.5   \n",
       "389                       1.3                  -0.5                   0.5   \n",
       "\n",
       "     odds_home_team  odds_away_team  odds_draw  \n",
       "0              1.38            11.5       5.30  \n",
       "1              1.76             5.6       3.90  \n",
       "2              2.68             3.5       2.94  \n",
       "3              1.95             4.3       3.95  \n",
       "4              1.36            12.5       5.50  \n",
       "..              ...             ...        ...  \n",
       "385            1.59             7.0       4.60  \n",
       "386            1.38            12.0       5.30  \n",
       "387            1.68             6.2       4.00  \n",
       "388            2.10             4.2       3.55  \n",
       "389            3.20             2.8       3.05  \n",
       "\n",
       "[390 rows x 12 columns]"
      ]
     },
     "execution_count": 17,
     "metadata": {},
     "output_type": "execute_result"
    }
   ],
   "source": [
    "df"
   ]
  },
  {
   "cell_type": "code",
   "execution_count": 18,
   "id": "f3818b39",
   "metadata": {},
   "outputs": [],
   "source": [
    "df.to_csv('basic_dataset.csv')"
   ]
  },
  {
   "cell_type": "code",
   "execution_count": null,
   "id": "042e2f54",
   "metadata": {},
   "outputs": [],
   "source": []
  }
 ],
 "metadata": {
  "kernelspec": {
   "display_name": "Python 3 (ipykernel)",
   "language": "python",
   "name": "python3"
  },
  "language_info": {
   "codemirror_mode": {
    "name": "ipython",
    "version": 3
   },
   "file_extension": ".py",
   "mimetype": "text/x-python",
   "name": "python",
   "nbconvert_exporter": "python",
   "pygments_lexer": "ipython3",
   "version": "3.9.13"
  }
 },
 "nbformat": 4,
 "nbformat_minor": 5
}
