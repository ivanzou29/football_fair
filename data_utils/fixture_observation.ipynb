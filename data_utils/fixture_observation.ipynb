{
 "cells": [
  {
   "cell_type": "markdown",
   "id": "fd14c838",
   "metadata": {},
   "source": [
    "# Fixture Observation\n",
    "\n",
    "#### This script creates a fixture observation for each match, combining the home and away teams statistics, as well as the prediction target - pre-match odds"
   ]
  },
  {
   "cell_type": "code",
   "execution_count": 1,
   "id": "4ad01e68",
   "metadata": {},
   "outputs": [],
   "source": [
    "import boto3\n",
    "import pandas as pd\n",
    "import numpy as np\n",
    "import json\n",
    "from io import StringIO\n",
    "\n",
    "\n",
    "s3 = boto3.resource('s3')\n",
    "bucket_name = 'betfairex'\n",
    "\n",
    "\n",
    "def read_csv_from_s3(bucket_name, object_key):\n",
    "    response = s3.Object(bucket_name, object_key).get()\n",
    "\n",
    "    s3_contents = response['Body'].read()\n",
    "    df = pd.read_csv(StringIO(s3_contents.decode('utf-8')))\n",
    "\n",
    "    return df"
   ]
  },
  {
   "cell_type": "code",
   "execution_count": 2,
   "id": "30c662b9",
   "metadata": {},
   "outputs": [],
   "source": [
    "bucket = s3.Bucket(bucket_name)"
   ]
  },
  {
   "cell_type": "code",
   "execution_count": 3,
   "id": "66b5d1fb",
   "metadata": {},
   "outputs": [],
   "source": [
    "all_keys = [obj.key for obj in bucket.objects.all()]\n",
    "\n",
    "# keys are in the regular expression as follows:\n",
    "# YYYY-MM-DD_[HOME_TEAM] v [AWAY_TEAM].csv"
   ]
  },
  {
   "cell_type": "code",
   "execution_count": 4,
   "id": "c9083405",
   "metadata": {},
   "outputs": [],
   "source": [
    "LEAGUE_INFO = pd.read_csv('league_info.csv')\n",
    "TEAM_INFO = pd.read_csv('team_info.csv')\n",
    "\n",
    "def get_match_info(object_key):\n",
    "    match_name = object_key[:-4]\n",
    "    match_date_str = match_name.split('_')[0]\n",
    "    fixture = match_name.split('_')[1]\n",
    "    home_team = fixture.split(' v ')[0]\n",
    "    away_team = fixture.split(' v ')[1]\n",
    "    \n",
    "    match_info = {\n",
    "        'match_date': match_date_str,\n",
    "        'home_team': home_team,\n",
    "        'away_team': away_team,\n",
    "    }    \n",
    "    return match_info\n",
    "\n",
    "def get_betfair_exchange_prematch_odds(bucket_name, object_key):\n",
    "    match_info = get_match_info(object_key)\n",
    "    \n",
    "    odds_df = read_csv_from_s3(bucket_name, object_key)\n",
    "    \n",
    "    odds_df = odds_df.sort_values(\"timestamp\", ascending=True)\n",
    "    prematch_df = odds_df[~odds_df['inplay']]\n",
    "    \n",
    "    home_team_df = prematch_df[prematch_df['selection'] == match_info['home_team']]\n",
    "    away_team_df = prematch_df[prematch_df['selection'] == match_info['away_team']]\n",
    "    draw_df = prematch_df[prematch_df['selection'] == \"Draw\"]\n",
    "    \n",
    "    home_prematch_odds = home_team_df.tail(1)['odds'].iloc[0]\n",
    "    away_prematch_odds = away_team_df.tail(1)['odds'].iloc[0]\n",
    "    draw_prematch_odds = draw_df.tail(1)['odds'].iloc[0]\n",
    "    \n",
    "    prematch_odds = {\n",
    "        'match_date': match_info['match_date'],\n",
    "        match_info['home_team']: home_prematch_odds,\n",
    "        match_info['away_team']: away_prematch_odds,\n",
    "        'Draw': draw_prematch_odds\n",
    "    }\n",
    "    return prematch_odds    \n",
    "    "
   ]
  },
  {
   "cell_type": "code",
   "execution_count": 5,
   "id": "502ba6ba",
   "metadata": {},
   "outputs": [],
   "source": [
    "TEAM_MAPPING_BETFAIR_TO_APIFOOTBALL = {\n",
    "    \"Athletic Bilbao\": \"Athletic Club\",\n",
    "    \"Betis\": \"Real Betis\"\n",
    "}"
   ]
  },
  {
   "cell_type": "code",
   "execution_count": 6,
   "id": "26bdf68a",
   "metadata": {},
   "outputs": [],
   "source": [
    "# Configuration constants\n",
    "\n",
    "SERVER = \"v3.football.api-sports.io\"\n",
    "API_KEY = \"1f5008c4f33481203631d90c7a81c5e5\"\n",
    "\n",
    "from pandas.tseries.offsets import Day\n",
    "import http.client\n",
    "import datetime as dt\n",
    "\n",
    "SERVER = \"v3.football.api-sports.io\"\n",
    "\n",
    "\n",
    "\n",
    "conn = http.client.HTTPSConnection(SERVER)\n",
    "\n",
    "headers = {\n",
    "  'x-rapidapi-host': SERVER,\n",
    "  'x-rapidapi-key': API_KEY\n",
    "}\n",
    "\n",
    "\n",
    "def get_team_stats(season, league_id, team_id, as_of_date):\n",
    "    # as_of_date in format YYYY-MM-DD\n",
    "    conn.request(\"GET\", \"/teams/statistics?season=%s&league=%s&team=%s&date=%s\" % (season, league_id, team_id, as_of_date), headers=headers)\n",
    "    res = conn.getresponse()\n",
    "    data = res.read()\n",
    "\n",
    "    team_stats_raw = data.decode(\"utf-8\")\n",
    "    team_stats = json.loads(team_stats_raw)[\"response\"]\n",
    "    \n",
    "    return team_stats\n",
    "    \n",
    "def get_team_stats_for_fixture(object_key):\n",
    "    match_info = get_match_info(object_key)\n",
    "    \n",
    "    match_date = match_info['match_date']\n",
    "    match_date = dt.datetime.strptime(match_date, \"%Y-%m-%d\")\n",
    "    as_of_date = match_date - Day(1)\n",
    "    as_of_date = as_of_date.strftime(\"%Y-%m-%d\")\n",
    "\n",
    "    match_year = match_date.year\n",
    "    match_month = match_date.month\n",
    "    \n",
    "    if match_month <= 6:\n",
    "        match_year -= 1\n",
    "\n",
    "    \n",
    "    home_team = TEAM_MAPPING_BETFAIR_TO_APIFOOTBALL.get(match_info['home_team'], match_info['home_team'])\n",
    "    home_team_info = TEAM_INFO.query(\"name == @home_team\").to_dict('records')[0]\n",
    "    home_team_id = home_team_info['team_id']\n",
    "    home_team_league_id = home_team_info['league_id']\n",
    "    home_team_stats = get_team_stats(match_year, home_team_league_id, home_team_id, as_of_date)\n",
    "    \n",
    "    \n",
    "    away_team = TEAM_MAPPING_BETFAIR_TO_APIFOOTBALL.get(match_info['away_team'], match_info['away_team'])\n",
    "    away_team_info = TEAM_INFO.query(\"name == @away_team\").to_dict('records')[0]\n",
    "    away_team_id = away_team_info['team_id']\n",
    "    away_team_league_id = away_team_info['league_id']\n",
    "    away_team_stats = get_team_stats(match_year, away_team_league_id, away_team_id, as_of_date)\n",
    "    \n",
    "    return home_team_stats, away_team_stats\n",
    "    "
   ]
  },
  {
   "cell_type": "code",
   "execution_count": 7,
   "id": "3691984e",
   "metadata": {},
   "outputs": [],
   "source": [
    "def calc_form_score(form):\n",
    "    form = form[-6:]\n",
    "    form_dict = {\n",
    "        'W': 1,\n",
    "        'D': 0,\n",
    "        'L': -1\n",
    "    }\n",
    "    \n",
    "    form_score = 0\n",
    "    for res in form[:3]:\n",
    "        form_score += 0.5 * form_dict[res]\n",
    "    for res in form[3:]:\n",
    "        form_score += 1 * form_dict[res]\n",
    "    return form_score\n",
    "\n",
    "def generate_features(object_key):\n",
    "    row = {}\n",
    "    match_info = get_match_info(object_key)\n",
    "    \n",
    "    # Index\n",
    "    row['match_date'] = match_info['match_date']\n",
    "    row['home_team'] = match_info['home_team']\n",
    "    row['away_team'] = match_info['away_team']\n",
    "    \n",
    "    # Features\n",
    "    home_team_stats, away_team_stats = get_team_stats_for_fixture(object_key)\n",
    "    \n",
    "    row['home_team_avg_home_goals'] = home_team_stats['goals']['for']['average']['home']\n",
    "    row['home_team_avg_total_goals'] = home_team_stats['goals']['for']['average']['total']\n",
    "    row['away_team_avg_away_goals'] = away_team_stats['goals']['for']['average']['away']\n",
    "    row['away_team_avg_total_goals'] = away_team_stats['goals']['for']['average']['total']\n",
    "    \n",
    "    row['home_team_form_score'] = calc_form_score(home_team_stats['form'])\n",
    "    row['away_team_form_score'] = calc_form_score(away_team_stats['form'])\n",
    "    \n",
    "    # Labels\n",
    "    prematch_odds = get_betfair_exchange_prematch_odds(bucket_name, object_key)\n",
    "    row['odds_home_team'] = prematch_odds[match_info['home_team']]\n",
    "    row['odds_away_team'] = prematch_odds[match_info['away_team']]\n",
    "    row['odds_draw'] = prematch_odds['Draw']\n",
    "    \n",
    "    return row"
   ]
  },
  {
   "cell_type": "code",
   "execution_count": 8,
   "id": "8a420317",
   "metadata": {},
   "outputs": [
    {
     "name": "stderr",
     "output_type": "stream",
     "text": [
      " 43%|█████████████████▌                       | 201/469 [01:13<10:19,  2.31s/it]"
     ]
    },
    {
     "name": "stdout",
     "output_type": "stream",
     "text": [
      "Failed to generate feature for 2024-05-11_Valladolid v Espanyol.csv.\n"
     ]
    },
    {
     "name": "stderr",
     "output_type": "stream",
     "text": [
      " 49%|███████████████████▉                     | 228/469 [01:19<00:59,  4.08it/s]"
     ]
    },
    {
     "name": "stdout",
     "output_type": "stream",
     "text": [
      "Failed to generate feature for 2024-04-12_Leganes v Espanyol.csv.\n"
     ]
    },
    {
     "name": "stderr",
     "output_type": "stream",
     "text": [
      " 62%|█████████████████████████▎               | 290/469 [01:42<00:37,  4.82it/s]"
     ]
    },
    {
     "name": "stdout",
     "output_type": "stream",
     "text": [
      "Failed to generate feature for 2024-02-03_Leganes v Valladolid.csv.\n"
     ]
    },
    {
     "name": "stderr",
     "output_type": "stream",
     "text": [
      " 70%|████████████████████████████▊            | 329/469 [02:00<00:23,  6.05it/s]"
     ]
    },
    {
     "name": "stdout",
     "output_type": "stream",
     "text": [
      "Failed to generate feature for 2024-01-06_Espanyol v Getafe.csv.\n"
     ]
    },
    {
     "name": "stderr",
     "output_type": "stream",
     "text": [
      " 77%|███████████████████████████████▍         | 360/469 [02:16<00:28,  3.81it/s]"
     ]
    },
    {
     "name": "stdout",
     "output_type": "stream",
     "text": [
      "Failed to generate feature for 2023-12-05_Espanyol v Valladolid.csv.\n"
     ]
    },
    {
     "name": "stderr",
     "output_type": "stream",
     "text": [
      " 80%|████████████████████████████████▊        | 375/469 [02:19<00:15,  6.04it/s]"
     ]
    },
    {
     "name": "stdout",
     "output_type": "stream",
     "text": [
      "Failed to generate feature for 2023-11-17_Valladolid v Leganes.csv.\n"
     ]
    },
    {
     "name": "stderr",
     "output_type": "stream",
     "text": [
      " 86%|███████████████████████████████████▎     | 404/469 [02:34<01:01,  1.06it/s]"
     ]
    },
    {
     "name": "stdout",
     "output_type": "stream",
     "text": [
      "Failed to generate feature for 2023-10-20_Espanyol v Leganes.csv.\n",
      "Failed to generate feature for 2023-10-14_Espanyol v Valladolid.csv.\n"
     ]
    },
    {
     "name": "stderr",
     "output_type": "stream",
     "text": [
      "100%|█████████████████████████████████████████| 469/469 [02:52<00:00,  2.71it/s]\n"
     ]
    }
   ],
   "source": [
    "from tqdm import tqdm\n",
    "import time\n",
    "rows = []\n",
    "\n",
    "\n",
    "for i in tqdm(range(1, len(all_keys) + 1)):\n",
    "    if i % 50 == 0:\n",
    "        time.sleep(10)\n",
    "    \n",
    "    key = all_keys[-i]\n",
    "    \n",
    "    match_info = get_match_info(key)\n",
    "    if match_info['match_date'][5:7] == '08':\n",
    "        continue\n",
    "    \n",
    "    try:\n",
    "        row = generate_features(key)\n",
    "        rows.append(row)\n",
    "    except:\n",
    "        print(\"Failed to generate feature for %s.\" % key)"
   ]
  },
  {
   "cell_type": "code",
   "execution_count": 9,
   "id": "adde01ee",
   "metadata": {},
   "outputs": [],
   "source": [
    "df = pd.DataFrame.from_records(rows)"
   ]
  },
  {
   "cell_type": "code",
   "execution_count": 16,
   "id": "52f9f5f8",
   "metadata": {},
   "outputs": [],
   "source": [
    "df.to_csv('basic_dataset.csv')"
   ]
  },
  {
   "cell_type": "code",
   "execution_count": 17,
   "id": "f40076df",
   "metadata": {},
   "outputs": [],
   "source": [
    "# remove outliers\n",
    "df = df.query(\"odds_home_team <= 20 and odds_away_team <= 20\")\n",
    "\n",
    "# sort by match date\n",
    "df = df.sort_values(\"match_date\")\n",
    "\n",
    "# calculate implied probability\n",
    "df['home_team_probability'] = 1 / df['odds_home_team']"
   ]
  },
  {
   "cell_type": "code",
   "execution_count": 24,
   "id": "80f20516",
   "metadata": {},
   "outputs": [],
   "source": [
    "# Ridge regression\n",
    "\n",
    "from sklearn.linear_model import Ridge\n",
    "df = df.set_index(['match_date', 'home_team', 'away_team'])\n",
    "X_train = df.values[:300, :-1]\n",
    "Y_train = df.values[:300, -1]\n",
    "X_val = df.values[300:, :-1]\n",
    "Y_val = df.values[300:, -1]\n",
    "\n",
    "# Fit data\n",
    "clf = Ridge(alpha=1.0)\n",
    "clf.fit(X_train, Y_train)\n",
    "\n",
    "# Prediction\n",
    "Y_pred = clf.predict(df.values[:, :-1])\n",
    "df['home_team_probability_pred'] = Y_pred\n",
    "\n",
    "# Evaluation\n",
    "def rmse(series_a, series_b):\n",
    "    return np.sqrt(np.mean((series_a - series_b) ** 2))\n",
    "\n",
    "df['odds_home_team_pred'] = 1 / df['home_team_probability_pred']"
   ]
  },
  {
   "cell_type": "code",
   "execution_count": 46,
   "id": "0275c5a5",
   "metadata": {},
   "outputs": [
    {
     "data": {
      "text/plain": [
       "0.032771465894335876"
      ]
     },
     "execution_count": 46,
     "metadata": {},
     "output_type": "execute_result"
    }
   ],
   "source": [
    "rmse(df[:300]['home_team_probability'], df[:300]['home_team_probability_pred'])"
   ]
  },
  {
   "cell_type": "code",
   "execution_count": 47,
   "id": "ae217df4",
   "metadata": {},
   "outputs": [
    {
     "data": {
      "text/plain": [
       "0.04058550463962281"
      ]
     },
     "execution_count": 47,
     "metadata": {},
     "output_type": "execute_result"
    }
   ],
   "source": [
    "rmse(df[300:]['home_team_probability'], df[300:]['home_team_probability_pred'])"
   ]
  }
 ],
 "metadata": {
  "kernelspec": {
   "display_name": "Python 3 (ipykernel)",
   "language": "python",
   "name": "python3"
  },
  "language_info": {
   "codemirror_mode": {
    "name": "ipython",
    "version": 3
   },
   "file_extension": ".py",
   "mimetype": "text/x-python",
   "name": "python",
   "nbconvert_exporter": "python",
   "pygments_lexer": "ipython3",
   "version": "3.9.13"
  }
 },
 "nbformat": 4,
 "nbformat_minor": 5
}
