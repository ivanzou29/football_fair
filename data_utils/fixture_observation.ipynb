{
 "cells": [
  {
   "cell_type": "markdown",
   "id": "babf86ab",
   "metadata": {},
   "source": [
    "# Fixture Observation\n",
    "\n",
    "#### This script creates a fixture observation for each match, combining the home and away teams statistics, as well as the prediction target - pre-match odds"
   ]
  },
  {
   "cell_type": "code",
   "execution_count": 7,
   "id": "97199985",
   "metadata": {},
   "outputs": [],
   "source": [
    "import boto3\n",
    "import pandas as pd\n",
    "import numpy as np\n",
    "import json\n",
    "from io import StringIO\n",
    "\n",
    "\n",
    "s3 = boto3.resource('s3')\n",
    "bucket_name = 'betfairex'\n",
    "\n",
    "\n",
    "def read_csv_from_s3(bucket_name, object_key):\n",
    "    response = s3.Object(bucket_name, object_key).get()\n",
    "\n",
    "    s3_contents = response['Body'].read()\n",
    "    df = pd.read_csv(StringIO(s3_contents.decode('utf-8')))\n",
    "\n",
    "    return df"
   ]
  },
  {
   "cell_type": "code",
   "execution_count": 8,
   "id": "a3e24854",
   "metadata": {},
   "outputs": [],
   "source": [
    "bucket = s3.Bucket(bucket_name)"
   ]
  },
  {
   "cell_type": "code",
   "execution_count": 9,
   "id": "83c12629",
   "metadata": {},
   "outputs": [],
   "source": [
    "all_keys = [obj.key for obj in bucket.objects.all()]\n",
    "\n",
    "# keys are in the regular expression as follows:\n",
    "# YYYY-MM-DD_[HOME_TEAM] v [AWAY_TEAM].csv"
   ]
  },
  {
   "cell_type": "code",
   "execution_count": 19,
   "id": "df593d97",
   "metadata": {},
   "outputs": [],
   "source": [
    "LEAGUE_INFO = pd.read_csv('league_info.csv')\n",
    "TEAM_INFO = pd.read_csv('team_info.csv')\n",
    "\n",
    "def get_match_info(object_key):\n",
    "    match_name = object_key[:-4]\n",
    "    match_date_str = match_name.split('_')[0]\n",
    "    fixture = match_name.split('_')[1]\n",
    "    home_team = fixture.split(' v ')[0]\n",
    "    away_team = fixture.split(' v ')[1]\n",
    "    \n",
    "    match_info = {\n",
    "        'match_date': match_date_str,\n",
    "        'home_team': home_team,\n",
    "        'away_team': away_team,\n",
    "    }    \n",
    "    return match_info\n",
    "\n",
    "def get_betfair_exchange_prematch_odds(bucket_name, object_key):\n",
    "    match_info = get_match_info(object_key)\n",
    "    \n",
    "    odds_df = read_csv_from_s3(bucket_name, object_key)\n",
    "    \n",
    "    odds_df = odds_df.sort_values(\"timestamp\", ascending=True)\n",
    "    prematch_df = odds_df[~odds_df['inplay']]\n",
    "    \n",
    "    home_team_df = prematch_df[prematch_df['selection'] == match_info['home_team']]\n",
    "    away_team_df = prematch_df[prematch_df['selection'] == match_info['away_team']]\n",
    "    draw_df = prematch_df[prematch_df['selection'] == \"Draw\"]\n",
    "    \n",
    "    home_prematch_odds = home_team_df.tail(1)['odds'].iloc[0]\n",
    "    away_prematch_odds = away_team_df.tail(1)['odds'].iloc[0]\n",
    "    draw_prematch_odds = draw_df.tail(1)['odds'].iloc[0]\n",
    "    \n",
    "    prematch_odds = {\n",
    "        'match_date': match_info['match_date'],\n",
    "        match_info['home_team']: home_prematch_odds,\n",
    "        match_info['away_team']: away_prematch_odds,\n",
    "        'Draw': draw_prematch_odds\n",
    "    }\n",
    "    return prematch_odds    \n",
    "    "
   ]
  },
  {
   "cell_type": "code",
   "execution_count": 43,
   "id": "bc8929a3",
   "metadata": {},
   "outputs": [],
   "source": [
    "# Configuration constants\n",
    "\n",
    "SERVER = \"v3.football.api-sports.io\"\n",
    "API_KEY = \"1f5008c4f33481203631d90c7a81c5e5\"\n",
    "\n",
    "from pandas.tseries.offsets import Day\n",
    "import http.client\n",
    "import datetime as dt\n",
    "\n",
    "SERVER = \"v3.football.api-sports.io\"\n",
    "\n",
    "\n",
    "\n",
    "conn = http.client.HTTPSConnection(SERVER)\n",
    "\n",
    "headers = {\n",
    "  'x-rapidapi-host': SERVER,\n",
    "  'x-rapidapi-key': API_KEY\n",
    "}\n",
    "\n",
    "\n",
    "def get_team_stats(season, league_id, team_id, as_of_date):\n",
    "    # as_of_date in format YYYY-MM-DD\n",
    "    conn.request(\"GET\", \"/teams/statistics?season=%s&league=%s&team=%s&date=%s\" % (season, league_id, team_id, as_of_date), headers=headers)\n",
    "    res = conn.getresponse()\n",
    "    data = res.read()\n",
    "\n",
    "    team_stats_raw = data.decode(\"utf-8\")\n",
    "    team_stats = json.loads(team_stats_raw)[\"response\"]\n",
    "    \n",
    "    return team_stats\n",
    "    \n",
    "TEAM_MAPPING_BETFAIR_TO_APIFOOTBALL = {\n",
    "    \"Athletic Bilbao\": \"Athletic Club\"\n",
    "}\n",
    "\n",
    "def get_team_stats_for_fixture(object_key):\n",
    "    match_info = get_match_info(object_key)\n",
    "    \n",
    "    match_date = match_info['match_date']\n",
    "    match_date = dt.datetime.strptime(match_date, \"%Y-%m-%d\")\n",
    "    as_of_date = match_date - Day(1)\n",
    "    as_of_date = as_of_date.strftime(\"%Y-%m-%d\")\n",
    "\n",
    "    # Decide which season to query. In API-Football, season corresponds to the starting year. Eg. 24-25 season will be season 2024.\n",
    "    match_year = match_date.year\n",
    "    match_month = match_date.month\n",
    "    \n",
    "    if match_month < 7:\n",
    "        season = match_year - 1\n",
    "    else:\n",
    "        season = match_year\n",
    "    \n",
    "    home_team = TEAM_MAPPING_BETFAIR_TO_APIFOOTBALL.get(match_info['home_team'], match_info['home_team'])\n",
    "    home_team_info = TEAM_INFO.query(\"name == @home_team\").to_dict('records')[0]\n",
    "    home_team_id = home_team_info['team_id']\n",
    "    home_team_league_id = home_team_info['league_id']\n",
    "    home_team_stats = get_team_stats(season, home_team_league_id, home_team_id, as_of_date)\n",
    "    \n",
    "    away_team = TEAM_MAPPING_BETFAIR_TO_APIFOOTBALL.get(match_info['away_team'], match_info['away_team'])\n",
    "    away_team_info = TEAM_INFO.query(\"name == @away_team\").to_dict('records')[0]\n",
    "    away_team_id = away_team_info['team_id']\n",
    "    away_team_league_id = away_team_info['league_id']\n",
    "    away_team_stats = get_team_stats(season, away_team_league_id, away_team_id, as_of_date)\n",
    "    \n",
    "    return home_team_stats, away_team_stats\n",
    "    "
   ]
  },
  {
   "cell_type": "code",
   "execution_count": 44,
   "id": "aebcf1bf",
   "metadata": {},
   "outputs": [],
   "source": [
    "home_team_stats, away_team_stats = get_team_stats_for_fixture(all_keys[-1])"
   ]
  },
  {
   "cell_type": "code",
   "execution_count": 47,
   "id": "0db3f840",
   "metadata": {},
   "outputs": [],
   "source": [
    "def calc_form_score(form):\n",
    "    form = form[-6:]\n",
    "    form_dict = {\n",
    "        'W': 1,\n",
    "        'D': 0,\n",
    "        'L': -1\n",
    "    }\n",
    "    \n",
    "    form_score = 0\n",
    "    for res in form[:3]:\n",
    "        form_score += 0.5 * form_dict[res]\n",
    "    for res in form[3:]:\n",
    "        form_score += 1 * form_dict[res]\n",
    "    return form_score\n",
    "\n",
    "def generate_features(object_key):\n",
    "    row = {}\n",
    "    match_info = get_match_info(object_key)\n",
    "    \n",
    "    # Index\n",
    "    row['match_date'] = match_info['match_date']\n",
    "    row['home_team'] = match_info['home_team']\n",
    "    row['away_team'] = match_info['away_team']\n",
    "    \n",
    "    # Features\n",
    "    home_team_stats, away_team_stats = get_team_stats_for_fixture(object_key)\n",
    "    row['home_team_avg_home_goals'] = home_team_stats['goals']['for']['average']['home']\n",
    "    row['home_team_avg_total_goals'] = home_team_stats['goals']['for']['average']['total']\n",
    "    row['away_team_avg_away_goals'] = away_team_stats['goals']['for']['average']['away']\n",
    "    row['away_team_avg_total_goals'] = away_team_stats['goals']['for']['average']['total']\n",
    "    row['home_team_form_score'] = calc_form_score(home_team_stats['form'])\n",
    "    row['away_team_form_score'] = calc_form_score(away_team_stats['form'])\n",
    "    \n",
    "    # Labels\n",
    "    prematch_odds = get_betfair_exchange_prematch_odds(bucket_name, object_key)\n",
    "    row['odds_home_team'] = prematch_odds[match_info['home_team']]\n",
    "    row['odds_away_team'] = prematch_odds[match_info['away_team']]\n",
    "    row['odds_draw'] = prematch_odds['Draw']\n",
    "    \n",
    "    return row"
   ]
  },
  {
   "cell_type": "code",
   "execution_count": 49,
   "id": "4c121d81",
   "metadata": {},
   "outputs": [
    {
     "name": "stderr",
     "output_type": "stream",
     "text": [
      "  1%|▎                                          | 3/469 [00:00<01:10,  6.56it/s]"
     ]
    },
    {
     "name": "stdout",
     "output_type": "stream",
     "text": [
      "Failed to generate feature for 2023-08-13_Celta Vigo v Osasuna.csv.\n",
      "Failed to generate feature for 2023-08-13_Getafe v Barcelona.csv.\n"
     ]
    },
    {
     "name": "stderr",
     "output_type": "stream",
     "text": [
      "  2%|▋                                          | 8/469 [00:01<01:05,  7.01it/s]"
     ]
    },
    {
     "name": "stdout",
     "output_type": "stream",
     "text": [
      "Failed to generate feature for 2023-08-13_Villarreal v Betis.csv.\n",
      "Failed to generate feature for 2023-08-20_Betis v Atletico Madrid.csv.\n"
     ]
    },
    {
     "name": "stderr",
     "output_type": "stream",
     "text": [
      "  4%|█▋                                        | 19/469 [00:03<01:13,  6.10it/s]"
     ]
    },
    {
     "name": "stdout",
     "output_type": "stream",
     "text": [
      "Failed to generate feature for 2023-08-27_Athletic Bilbao v Betis.csv.\n"
     ]
    },
    {
     "name": "stderr",
     "output_type": "stream",
     "text": [
      "  5%|██                                        | 23/469 [00:03<01:22,  5.40it/s]"
     ]
    },
    {
     "name": "stdout",
     "output_type": "stream",
     "text": [
      "Failed to generate feature for 2023-09-02_Betis v Rayo Vallecano.csv.\n"
     ]
    },
    {
     "name": "stderr",
     "output_type": "stream",
     "text": [
      "  7%|██▊                                       | 32/469 [00:05<01:10,  6.20it/s]"
     ]
    },
    {
     "name": "stdout",
     "output_type": "stream",
     "text": [
      "Failed to generate feature for 2023-09-16_Barcelona v Betis.csv.\n"
     ]
    },
    {
     "name": "stderr",
     "output_type": "stream",
     "text": [
      " 12%|█████▏                                    | 58/469 [00:10<01:02,  6.61it/s]"
     ]
    },
    {
     "name": "stdout",
     "output_type": "stream",
     "text": [
      "Failed to generate feature for 2023-10-01_Betis v Valencia.csv.\n"
     ]
    },
    {
     "name": "stderr",
     "output_type": "stream",
     "text": [
      " 13%|█████▍                                    | 61/469 [00:10<01:14,  5.44it/s]"
     ]
    },
    {
     "name": "stdout",
     "output_type": "stream",
     "text": [
      "Failed to generate feature for 2023-10-08_Alaves v Betis.csv.\n"
     ]
    },
    {
     "name": "stderr",
     "output_type": "stream",
     "text": [
      " 14%|██████                                    | 67/469 [00:11<01:01,  6.52it/s]"
     ]
    },
    {
     "name": "stdout",
     "output_type": "stream",
     "text": [
      "Failed to generate feature for 2023-10-14_Espanyol v Valladolid.csv.\n",
      "Failed to generate feature for 2023-10-20_Espanyol v Leganes.csv.\n"
     ]
    },
    {
     "name": "stderr",
     "output_type": "stream",
     "text": [
      "\r",
      " 14%|██████                                    | 68/469 [00:12<01:07,  5.94it/s]"
     ]
    },
    {
     "name": "stdout",
     "output_type": "stream",
     "text": [
      "Failed to generate feature for 2023-10-21_Getafe v Betis.csv.\n"
     ]
    },
    {
     "name": "stderr",
     "output_type": "stream",
     "text": [
      " 17%|███████                                   | 79/469 [00:14<01:17,  5.03it/s]"
     ]
    },
    {
     "name": "stdout",
     "output_type": "stream",
     "text": [
      "Failed to generate feature for 2023-10-29_Betis v Osasuna.csv.\n"
     ]
    },
    {
     "name": "stderr",
     "output_type": "stream",
     "text": [
      " 18%|███████▌                                  | 84/469 [00:14<00:54,  7.02it/s]"
     ]
    },
    {
     "name": "stdout",
     "output_type": "stream",
     "text": [
      "Failed to generate feature for 2023-11-04_Betis v Mallorca.csv.\n"
     ]
    },
    {
     "name": "stderr",
     "output_type": "stream",
     "text": [
      " 20%|████████▌                                 | 96/469 [00:17<00:56,  6.55it/s]"
     ]
    },
    {
     "name": "stdout",
     "output_type": "stream",
     "text": [
      "Failed to generate feature for 2023-11-12_Sevilla v Betis.csv.\n",
      "Failed to generate feature for 2023-11-17_Valladolid v Leganes.csv.\n"
     ]
    },
    {
     "name": "stderr",
     "output_type": "stream",
     "text": [
      " 22%|████████▊                                | 101/469 [00:17<00:54,  6.79it/s]"
     ]
    },
    {
     "name": "stdout",
     "output_type": "stream",
     "text": [
      "Failed to generate feature for 2023-11-26_Betis v Las Palmas.csv.\n"
     ]
    },
    {
     "name": "stderr",
     "output_type": "stream",
     "text": [
      " 24%|█████████▋                               | 111/469 [00:19<01:05,  5.44it/s]"
     ]
    },
    {
     "name": "stdout",
     "output_type": "stream",
     "text": [
      "Failed to generate feature for 2023-12-05_Espanyol v Valladolid.csv.\n"
     ]
    },
    {
     "name": "stderr",
     "output_type": "stream",
     "text": [
      " 25%|██████████                               | 115/469 [00:20<00:51,  6.81it/s]"
     ]
    },
    {
     "name": "stdout",
     "output_type": "stream",
     "text": [
      "Failed to generate feature for 2023-12-09_Betis v Real Madrid.csv.\n"
     ]
    },
    {
     "name": "stderr",
     "output_type": "stream",
     "text": [
      " 26%|██████████▊                              | 123/469 [00:22<01:17,  4.47it/s]"
     ]
    },
    {
     "name": "stdout",
     "output_type": "stream",
     "text": [
      "Failed to generate feature for 2023-12-17_Real Sociedad v Betis.csv.\n"
     ]
    },
    {
     "name": "stderr",
     "output_type": "stream",
     "text": [
      " 28%|███████████▌                             | 132/469 [00:23<00:52,  6.43it/s]"
     ]
    },
    {
     "name": "stdout",
     "output_type": "stream",
     "text": [
      "Failed to generate feature for 2023-12-21_Betis v Girona.csv.\n"
     ]
    },
    {
     "name": "stderr",
     "output_type": "stream",
     "text": [
      " 29%|███████████▊                             | 135/469 [00:24<01:01,  5.41it/s]"
     ]
    },
    {
     "name": "stdout",
     "output_type": "stream",
     "text": [
      "Failed to generate feature for 2024-01-03_Celta Vigo v Betis.csv.\n"
     ]
    },
    {
     "name": "stderr",
     "output_type": "stream",
     "text": [
      " 30%|████████████▍                            | 142/469 [00:25<00:50,  6.52it/s]"
     ]
    },
    {
     "name": "stdout",
     "output_type": "stream",
     "text": [
      "Failed to generate feature for 2024-01-06_Alaves v Betis.csv.\n",
      "Failed to generate feature for 2024-01-06_Espanyol v Getafe.csv.\n"
     ]
    },
    {
     "name": "stderr",
     "output_type": "stream",
     "text": [
      " 33%|█████████████▋                           | 157/469 [00:28<01:14,  4.16it/s]"
     ]
    },
    {
     "name": "stdout",
     "output_type": "stream",
     "text": [
      "Failed to generate feature for 2024-01-21_Betis v Barcelona.csv.\n"
     ]
    },
    {
     "name": "stderr",
     "output_type": "stream",
     "text": [
      " 36%|██████████████▋                          | 168/469 [00:31<00:57,  5.20it/s]"
     ]
    },
    {
     "name": "stdout",
     "output_type": "stream",
     "text": [
      "Failed to generate feature for 2024-01-27_Mallorca v Betis.csv.\n"
     ]
    },
    {
     "name": "stderr",
     "output_type": "stream",
     "text": [
      " 38%|███████████████▋                         | 179/469 [00:33<00:55,  5.19it/s]"
     ]
    },
    {
     "name": "stdout",
     "output_type": "stream",
     "text": [
      "Failed to generate feature for 2024-02-03_Leganes v Valladolid.csv.\n"
     ]
    },
    {
     "name": "stderr",
     "output_type": "stream",
     "text": [
      "\r",
      " 38%|███████████████▋                         | 180/469 [00:33<00:56,  5.11it/s]"
     ]
    },
    {
     "name": "stdout",
     "output_type": "stream",
     "text": [
      "Failed to generate feature for 2024-02-04_Betis v Getafe.csv.\n"
     ]
    },
    {
     "name": "stderr",
     "output_type": "stream",
     "text": [
      " 42%|█████████████████▎                       | 198/469 [00:37<00:43,  6.17it/s]"
     ]
    },
    {
     "name": "stdout",
     "output_type": "stream",
     "text": [
      "Failed to generate feature for 2024-02-18_Betis v Alaves.csv.\n"
     ]
    },
    {
     "name": "stderr",
     "output_type": "stream",
     "text": [
      " 44%|█████████████████▉                       | 205/469 [00:38<00:42,  6.24it/s]"
     ]
    },
    {
     "name": "stdout",
     "output_type": "stream",
     "text": [
      "Failed to generate feature for 2024-02-25_Betis v Athletic Bilbao.csv.\n"
     ]
    },
    {
     "name": "stderr",
     "output_type": "stream",
     "text": [
      " 46%|██████████████████▊                      | 215/469 [00:40<00:43,  5.88it/s]"
     ]
    },
    {
     "name": "stdout",
     "output_type": "stream",
     "text": [
      "Failed to generate feature for 2024-03-03_Atletico Madrid v Betis.csv.\n"
     ]
    },
    {
     "name": "stderr",
     "output_type": "stream",
     "text": [
      " 47%|███████████████████▏                     | 220/469 [00:41<00:52,  4.71it/s]"
     ]
    },
    {
     "name": "stdout",
     "output_type": "stream",
     "text": [
      "Failed to generate feature for 2024-03-10_Betis v Villarreal.csv.\n"
     ]
    },
    {
     "name": "stderr",
     "output_type": "stream",
     "text": [
      " 49%|████████████████████                     | 229/469 [00:43<00:41,  5.77it/s]"
     ]
    },
    {
     "name": "stdout",
     "output_type": "stream",
     "text": [
      "Failed to generate feature for 2024-03-17_Rayo Vallecano v Betis.csv.\n"
     ]
    },
    {
     "name": "stderr",
     "output_type": "stream",
     "text": [
      " 50%|████████████████████▌                    | 235/469 [00:44<00:54,  4.30it/s]"
     ]
    },
    {
     "name": "stdout",
     "output_type": "stream",
     "text": [
      "Failed to generate feature for 2024-03-31_Girona v Betis.csv.\n"
     ]
    },
    {
     "name": "stderr",
     "output_type": "stream",
     "text": [
      " 51%|█████████████████████                    | 241/469 [00:45<00:32,  7.05it/s]"
     ]
    },
    {
     "name": "stdout",
     "output_type": "stream",
     "text": [
      "Failed to generate feature for 2024-04-12_Betis v Celta Vigo.csv.\n",
      "Failed to generate feature for 2024-04-12_Leganes v Espanyol.csv.\n"
     ]
    },
    {
     "name": "stderr",
     "output_type": "stream",
     "text": [
      " 54%|█████████████████████▉                   | 251/469 [00:47<00:35,  6.16it/s]"
     ]
    },
    {
     "name": "stdout",
     "output_type": "stream",
     "text": [
      "Failed to generate feature for 2024-04-20_Valencia v Betis.csv.\n"
     ]
    },
    {
     "name": "stderr",
     "output_type": "stream",
     "text": [
      " 55%|██████████████████████▌                  | 258/469 [00:48<00:30,  6.84it/s]"
     ]
    },
    {
     "name": "stdout",
     "output_type": "stream",
     "text": [
      "Failed to generate feature for 2024-04-28_Betis v Sevilla.csv.\n"
     ]
    },
    {
     "name": "stderr",
     "output_type": "stream",
     "text": [
      " 56%|███████████████████████                  | 264/469 [00:49<00:28,  7.12it/s]"
     ]
    },
    {
     "name": "stdout",
     "output_type": "stream",
     "text": [
      "Failed to generate feature for 2024-05-05_Osasuna v Betis.csv.\n"
     ]
    },
    {
     "name": "stderr",
     "output_type": "stream",
     "text": [
      " 57%|███████████████████████▌                 | 269/469 [00:50<00:30,  6.46it/s]"
     ]
    },
    {
     "name": "stdout",
     "output_type": "stream",
     "text": [
      "Failed to generate feature for 2024-05-11_Valladolid v Espanyol.csv.\n"
     ]
    },
    {
     "name": "stderr",
     "output_type": "stream",
     "text": [
      " 59%|████████████████████████▏                | 277/469 [00:51<00:39,  4.84it/s]"
     ]
    },
    {
     "name": "stdout",
     "output_type": "stream",
     "text": [
      "Failed to generate feature for 2024-05-16_Las Palmas v Betis.csv.\n"
     ]
    },
    {
     "name": "stderr",
     "output_type": "stream",
     "text": [
      " 61%|████████████████████████▉                | 285/469 [00:53<00:29,  6.21it/s]"
     ]
    },
    {
     "name": "stdout",
     "output_type": "stream",
     "text": [
      "Failed to generate feature for 2024-05-19_Betis v Real Sociedad.csv.\n"
     ]
    },
    {
     "name": "stderr",
     "output_type": "stream",
     "text": [
      " 62%|█████████████████████████▌               | 293/469 [00:54<00:31,  5.51it/s]"
     ]
    },
    {
     "name": "stdout",
     "output_type": "stream",
     "text": [
      "Failed to generate feature for 2024-05-25_Real Madrid v Betis.csv.\n"
     ]
    },
    {
     "name": "stderr",
     "output_type": "stream",
     "text": [
      " 63%|█████████████████████████▊               | 295/469 [00:55<00:34,  5.08it/s]"
     ]
    },
    {
     "name": "stdout",
     "output_type": "stream",
     "text": [
      "Failed to generate feature for 2024-08-17_Betis v Girona.csv.\n"
     ]
    },
    {
     "name": "stderr",
     "output_type": "stream",
     "text": [
      " 64%|██████████████████████████▏              | 300/469 [00:55<00:21,  7.84it/s]"
     ]
    },
    {
     "name": "stdout",
     "output_type": "stream",
     "text": [
      "Failed to generate feature for 2024-08-17_Mallorca v Real Madrid.csv.\n",
      "Failed to generate feature for 2024-08-17_Osasuna v Leganes.csv.\n",
      "Failed to generate feature for 2024-08-17_Real Sociedad v Rayo Vallecano.csv.\n"
     ]
    },
    {
     "name": "stderr",
     "output_type": "stream",
     "text": [
      " 65%|██████████████████████████▌              | 304/469 [00:56<00:17,  9.53it/s]"
     ]
    },
    {
     "name": "stdout",
     "output_type": "stream",
     "text": [
      "Failed to generate feature for 2024-08-17_Valencia v Barcelona.csv.\n",
      "Failed to generate feature for 2024-08-17_Villarreal v Atletico Madrid.csv.\n",
      "Failed to generate feature for 2024-08-18_Valladolid v Espanyol.csv.\n"
     ]
    },
    {
     "name": "stderr",
     "output_type": "stream",
     "text": [
      " 67%|███████████████████████████▎             | 313/469 [00:57<00:15, 10.28it/s]"
     ]
    },
    {
     "name": "stdout",
     "output_type": "stream",
     "text": [
      "Failed to generate feature for 2024-08-25_Alaves v Betis.csv.\n",
      "Failed to generate feature for 2024-08-25_Atletico Madrid v Girona.csv.\n",
      "Failed to generate feature for 2024-08-25_Leganes v Las Palmas.csv.\n",
      "Failed to generate feature for 2024-08-25_Real Madrid v Valladolid.csv.\n"
     ]
    },
    {
     "name": "stderr",
     "output_type": "stream",
     "text": [
      " 68%|███████████████████████████▋             | 317/469 [00:57<00:11, 12.73it/s]"
     ]
    },
    {
     "name": "stdout",
     "output_type": "stream",
     "text": [
      "Failed to generate feature for 2024-08-26_Villarreal v Celta Vigo.csv.\n",
      "Failed to generate feature for 2024-08-27_Mallorca v Sevilla.csv.\n",
      "Failed to generate feature for 2024-08-27_Rayo Vallecano v Barcelona.csv.\n"
     ]
    },
    {
     "name": "stderr",
     "output_type": "stream",
     "text": [
      " 68%|████████████████████████████             | 321/469 [00:57<00:10, 14.30it/s]"
     ]
    },
    {
     "name": "stdout",
     "output_type": "stream",
     "text": [
      "Failed to generate feature for 2024-08-28_Athletic Bilbao v Valencia.csv.\n",
      "Failed to generate feature for 2024-08-28_Atletico Madrid v Espanyol.csv.\n",
      "Failed to generate feature for 2024-08-28_Real Sociedad v Alaves.csv.\n",
      "Failed to generate feature for 2024-08-28_Valladolid v Leganes.csv.\n"
     ]
    },
    {
     "name": "stderr",
     "output_type": "stream",
     "text": [
      " 69%|████████████████████████████▍            | 325/469 [00:58<00:09, 15.73it/s]"
     ]
    },
    {
     "name": "stdout",
     "output_type": "stream",
     "text": [
      "Failed to generate feature for 2024-08-29_Girona v Osasuna.csv.\n",
      "Failed to generate feature for 2024-08-29_Las Palmas v Real Madrid.csv.\n",
      "Failed to generate feature for 2024-08-31_Athletic Bilbao v Atletico Madrid.csv.\n",
      "Failed to generate feature for 2024-08-31_Barcelona v Valladolid.csv.\n"
     ]
    },
    {
     "name": "stderr",
     "output_type": "stream",
     "text": [
      " 70%|████████████████████████████▊            | 329/469 [00:58<00:08, 15.67it/s]"
     ]
    },
    {
     "name": "stdout",
     "output_type": "stream",
     "text": [
      "Failed to generate feature for 2024-08-31_Espanyol v Rayo Vallecano.csv.\n",
      "Failed to generate feature for 2024-08-31_Leganes v Mallorca.csv.\n",
      "Failed to generate feature for 2024-08-31_Valencia v Villarreal.csv.\n",
      "Failed to generate feature for 2024-09-01_Alaves v Las Palmas.csv.\n"
     ]
    },
    {
     "name": "stderr",
     "output_type": "stream",
     "text": [
      "\r",
      " 71%|████████████████████████████▉            | 331/469 [00:58<00:08, 15.90it/s]"
     ]
    },
    {
     "name": "stdout",
     "output_type": "stream",
     "text": [
      "Failed to generate feature for 2024-09-01_Getafe v Real Sociedad.csv.\n",
      "Failed to generate feature for 2024-09-01_Osasuna v Celta Vigo.csv.\n",
      "Failed to generate feature for 2024-09-01_Real Madrid v Betis.csv.\n",
      "Failed to generate feature for 2024-09-01_Sevilla v Girona.csv.\n",
      "Failed to generate feature for 2024-09-13_Betis v Leganes.csv.\n"
     ]
    },
    {
     "name": "stderr",
     "output_type": "stream",
     "text": [
      " 72%|█████████████████████████████▍           | 337/469 [00:58<00:06, 19.17it/s]"
     ]
    },
    {
     "name": "stdout",
     "output_type": "stream",
     "text": [
      "Failed to generate feature for 2024-09-14_Espanyol v Alaves.csv.\n",
      "Failed to generate feature for 2024-09-14_Mallorca v Villarreal.csv.\n",
      "Failed to generate feature for 2024-09-14_Real Sociedad v Real Madrid.csv.\n",
      "Failed to generate feature for 2024-09-14_Sevilla v Getafe.csv.\n"
     ]
    },
    {
     "name": "stderr",
     "output_type": "stream",
     "text": [
      " 73%|█████████████████████████████▊           | 341/469 [00:59<00:07, 17.37it/s]"
     ]
    },
    {
     "name": "stdout",
     "output_type": "stream",
     "text": [
      "Failed to generate feature for 2024-09-15_Atletico Madrid v Valencia.csv.\n",
      "Failed to generate feature for 2024-09-15_Celta Vigo v Valladolid.csv.\n",
      "Failed to generate feature for 2024-09-15_Girona v Barcelona.csv.\n"
     ]
    },
    {
     "name": "stderr",
     "output_type": "stream",
     "text": [
      " 74%|██████████████████████████████▏          | 346/469 [00:59<00:06, 19.18it/s]"
     ]
    },
    {
     "name": "stdout",
     "output_type": "stream",
     "text": [
      "Failed to generate feature for 2024-09-15_Las Palmas v Athletic Bilbao.csv.\n",
      "Failed to generate feature for 2024-09-16_Rayo Vallecano v Osasuna.csv.\n",
      "Failed to generate feature for 2024-09-17_Mallorca v Real Sociedad.csv.\n",
      "Failed to generate feature for 2024-09-18_Betis v Getafe.csv.\n",
      "Failed to generate feature for 2024-09-19_Leganes v Athletic Bilbao.csv.\n"
     ]
    },
    {
     "name": "stderr",
     "output_type": "stream",
     "text": [
      " 75%|██████████████████████████████▌          | 350/469 [00:59<00:06, 17.93it/s]"
     ]
    },
    {
     "name": "stdout",
     "output_type": "stream",
     "text": [
      "Failed to generate feature for 2024-09-20_Alaves v Sevilla.csv.\n",
      "Failed to generate feature for 2024-09-21_Osasuna v Las Palmas.csv.\n",
      "Failed to generate feature for 2024-09-21_Real Madrid v Espanyol.csv.\n",
      "Failed to generate feature for 2024-09-21_Valencia v Girona.csv.\n"
     ]
    },
    {
     "name": "stderr",
     "output_type": "stream",
     "text": [
      " 75%|██████████████████████████████▉          | 354/469 [00:59<00:06, 16.50it/s]"
     ]
    },
    {
     "name": "stdout",
     "output_type": "stream",
     "text": [
      "Failed to generate feature for 2024-09-21_Valladolid v Real Sociedad.csv.\n",
      "Failed to generate feature for 2024-09-22_Athletic Bilbao v Celta Vigo.csv.\n",
      "Failed to generate feature for 2024-09-22_Getafe v Leganes.csv.\n",
      "Failed to generate feature for 2024-09-22_Rayo Vallecano v Atletico Madrid.csv.\n"
     ]
    },
    {
     "name": "stderr",
     "output_type": "stream",
     "text": [
      " 77%|███████████████████████████████▍         | 359/469 [01:00<00:05, 18.40it/s]"
     ]
    },
    {
     "name": "stdout",
     "output_type": "stream",
     "text": [
      "Failed to generate feature for 2024-09-22_Villarreal v Barcelona.csv.\n",
      "Failed to generate feature for 2024-09-23_Betis v Mallorca.csv.\n",
      "Failed to generate feature for 2024-09-24_Real Madrid v Alaves.csv.\n",
      "Failed to generate feature for 2024-09-24_Sevilla v Valladolid.csv.\n",
      "Failed to generate feature for 2024-09-24_Valencia v Osasuna.csv.\n"
     ]
    },
    {
     "name": "stderr",
     "output_type": "stream",
     "text": [
      " 77%|███████████████████████████████▋         | 363/469 [01:00<00:07, 15.07it/s]"
     ]
    },
    {
     "name": "stdout",
     "output_type": "stream",
     "text": [
      "Failed to generate feature for 2024-09-25_Barcelona v Getafe.csv.\n",
      "Failed to generate feature for 2024-09-25_Girona v Rayo Vallecano.csv.\n",
      "Failed to generate feature for 2024-09-26_Celta Vigo v Atletico Madrid.csv.\n",
      "Failed to generate feature for 2024-09-26_Espanyol v Villarreal.csv.\n"
     ]
    },
    {
     "name": "stderr",
     "output_type": "stream",
     "text": [
      "\r",
      " 78%|███████████████████████████████▉         | 366/469 [01:00<00:06, 17.00it/s]"
     ]
    },
    {
     "name": "stdout",
     "output_type": "stream",
     "text": [
      "Failed to generate feature for 2024-09-26_Las Palmas v Betis.csv.\n",
      "Failed to generate feature for 2024-09-27_Valladolid v Mallorca.csv.\n",
      "Failed to generate feature for 2024-09-28_Getafe v Alaves.csv.\n",
      "Failed to generate feature for 2024-09-28_Osasuna v Barcelona.csv.\n"
     ]
    },
    {
     "name": "stderr",
     "output_type": "stream",
     "text": [
      " 79%|████████████████████████████████▎        | 370/469 [01:00<00:06, 15.36it/s]"
     ]
    },
    {
     "name": "stdout",
     "output_type": "stream",
     "text": [
      "Failed to generate feature for 2024-09-28_Rayo Vallecano v Leganes.csv.\n",
      "Failed to generate feature for 2024-09-28_Real Sociedad v Valencia.csv.\n",
      "Failed to generate feature for 2024-09-29_Athletic Bilbao v Sevilla.csv.\n"
     ]
    },
    {
     "name": "stderr",
     "output_type": "stream",
     "text": [
      "\r",
      " 80%|████████████████████████████████▌        | 373/469 [01:00<00:06, 15.85it/s]"
     ]
    },
    {
     "name": "stdout",
     "output_type": "stream",
     "text": [
      "Failed to generate feature for 2024-09-29_Atletico Madrid v Real Madrid.csv.\n",
      "Failed to generate feature for 2024-09-29_Betis v Espanyol.csv.\n",
      "Failed to generate feature for 2024-09-29_Celta Vigo v Girona.csv.\n",
      "Failed to generate feature for 2024-09-30_Villarreal v Las Palmas.csv.\n"
     ]
    },
    {
     "name": "stderr",
     "output_type": "stream",
     "text": [
      " 80%|████████████████████████████████▉        | 377/469 [01:01<00:07, 12.89it/s]"
     ]
    },
    {
     "name": "stdout",
     "output_type": "stream",
     "text": [
      "Failed to generate feature for 2024-10-04_Leganes v Valencia.csv.\n",
      "Failed to generate feature for 2024-10-05_Espanyol v Mallorca.csv.\n",
      "Failed to generate feature for 2024-10-05_Getafe v Osasuna.csv.\n"
     ]
    },
    {
     "name": "stderr",
     "output_type": "stream",
     "text": [
      "\r",
      " 81%|█████████████████████████████████▏       | 379/469 [01:01<00:07, 12.52it/s]"
     ]
    },
    {
     "name": "stdout",
     "output_type": "stream",
     "text": [
      "Failed to generate feature for 2024-10-05_Las Palmas v Celta Vigo.csv.\n",
      "Failed to generate feature for 2024-10-05_Real Madrid v Villarreal.csv.\n",
      "Failed to generate feature for 2024-10-05_Valladolid v Rayo Vallecano.csv.\n"
     ]
    },
    {
     "name": "stderr",
     "output_type": "stream",
     "text": [
      " 82%|█████████████████████████████████▍       | 383/469 [01:01<00:07, 11.70it/s]"
     ]
    },
    {
     "name": "stdout",
     "output_type": "stream",
     "text": [
      "Failed to generate feature for 2024-10-06_Alaves v Barcelona.csv.\n",
      "Failed to generate feature for 2024-10-06_Girona v Athletic Bilbao.csv.\n",
      "Failed to generate feature for 2024-10-06_Real Sociedad v Atletico Madrid.csv.\n"
     ]
    },
    {
     "name": "stderr",
     "output_type": "stream",
     "text": [
      "\r",
      " 82%|█████████████████████████████████▋       | 385/469 [01:02<00:06, 12.24it/s]"
     ]
    },
    {
     "name": "stdout",
     "output_type": "stream",
     "text": [
      "Failed to generate feature for 2024-10-06_Sevilla v Betis.csv.\n",
      "Failed to generate feature for 2024-10-18_Alaves v Valladolid.csv.\n",
      "Failed to generate feature for 2024-10-19_Athletic Bilbao v Espanyol.csv.\n"
     ]
    },
    {
     "name": "stderr",
     "output_type": "stream",
     "text": [
      " 83%|██████████████████████████████████       | 389/469 [01:02<00:06, 11.51it/s]"
     ]
    },
    {
     "name": "stdout",
     "output_type": "stream",
     "text": [
      "Failed to generate feature for 2024-10-19_Celta Vigo v Real Madrid.csv.\n",
      "Failed to generate feature for 2024-10-19_Girona v Real Sociedad.csv.\n",
      "Failed to generate feature for 2024-10-19_Osasuna v Betis.csv.\n"
     ]
    },
    {
     "name": "stderr",
     "output_type": "stream",
     "text": [
      "\r",
      " 83%|██████████████████████████████████▏      | 391/469 [01:02<00:07, 10.66it/s]"
     ]
    },
    {
     "name": "stdout",
     "output_type": "stream",
     "text": [
      "Failed to generate feature for 2024-10-20_Atletico Madrid v Leganes.csv.\n",
      "Failed to generate feature for 2024-10-20_Barcelona v Sevilla.csv.\n",
      "Failed to generate feature for 2024-10-20_Mallorca v Rayo Vallecano.csv.\n"
     ]
    },
    {
     "name": "stderr",
     "output_type": "stream",
     "text": [
      "\r",
      " 84%|██████████████████████████████████▎      | 393/469 [01:02<00:06, 10.89it/s]"
     ]
    },
    {
     "name": "stdout",
     "output_type": "stream",
     "text": [
      "Failed to generate feature for 2024-10-20_Villarreal v Getafe.csv.\n",
      "Failed to generate feature for 2024-10-21_Valencia v Las Palmas.csv.\n",
      "Failed to generate feature for 2024-10-25_Espanyol v Sevilla.csv.\n"
     ]
    },
    {
     "name": "stderr",
     "output_type": "stream",
     "text": [
      " 85%|██████████████████████████████████▋      | 397/469 [01:03<00:06, 10.58it/s]"
     ]
    },
    {
     "name": "stdout",
     "output_type": "stream",
     "text": [
      "Failed to generate feature for 2024-10-26_Las Palmas v Girona.csv.\n",
      "Failed to generate feature for 2024-10-26_Rayo Vallecano v Alaves.csv.\n",
      "Failed to generate feature for 2024-10-26_Real Madrid v Barcelona.csv.\n"
     ]
    },
    {
     "name": "stderr",
     "output_type": "stream",
     "text": [
      " 86%|███████████████████████████████████▏     | 402/469 [01:03<00:05, 12.59it/s]"
     ]
    },
    {
     "name": "stdout",
     "output_type": "stream",
     "text": [
      "Failed to generate feature for 2024-10-26_Valladolid v Villarreal.csv.\n",
      "Failed to generate feature for 2024-10-27_Betis v Atletico Madrid.csv.\n",
      "Failed to generate feature for 2024-10-27_Getafe v Valencia.csv.\n",
      "Failed to generate feature for 2024-10-27_Leganes v Celta Vigo.csv.\n"
     ]
    },
    {
     "name": "stderr",
     "output_type": "stream",
     "text": [
      "\r",
      " 86%|███████████████████████████████████▎     | 404/469 [01:03<00:05, 12.04it/s]"
     ]
    },
    {
     "name": "stdout",
     "output_type": "stream",
     "text": [
      "Failed to generate feature for 2024-10-27_Real Sociedad v Osasuna.csv.\n",
      "Failed to generate feature for 2024-10-28_Mallorca v Athletic Bilbao.csv.\n",
      "Failed to generate feature for 2024-11-01_Alaves v Mallorca.csv.\n"
     ]
    },
    {
     "name": "stderr",
     "output_type": "stream",
     "text": [
      " 87%|███████████████████████████████████▋     | 408/469 [01:04<00:05, 11.74it/s]"
     ]
    },
    {
     "name": "stdout",
     "output_type": "stream",
     "text": [
      "Failed to generate feature for 2024-11-02_Girona v Leganes.csv.\n",
      "Failed to generate feature for 2024-11-02_Osasuna v Valladolid.csv.\n",
      "Failed to generate feature for 2024-11-02_Valencia v Real Madrid.csv.\n"
     ]
    },
    {
     "name": "stderr",
     "output_type": "stream",
     "text": [
      "\r",
      " 87%|███████████████████████████████████▊     | 410/469 [01:04<00:04, 12.40it/s]"
     ]
    },
    {
     "name": "stdout",
     "output_type": "stream",
     "text": [
      "Failed to generate feature for 2024-11-02_Villarreal v Rayo Vallecano.csv.\n",
      "Failed to generate feature for 2024-11-03_Athletic Bilbao v Betis.csv.\n",
      "Failed to generate feature for 2024-11-03_Atletico Madrid v Las Palmas.csv.\n"
     ]
    },
    {
     "name": "stderr",
     "output_type": "stream",
     "text": [
      " 88%|████████████████████████████████████▏    | 414/469 [01:04<00:04, 11.99it/s]"
     ]
    },
    {
     "name": "stdout",
     "output_type": "stream",
     "text": [
      "Failed to generate feature for 2024-11-03_Barcelona v Espanyol.csv.\n",
      "Failed to generate feature for 2024-11-03_Sevilla v Real Sociedad.csv.\n",
      "Failed to generate feature for 2024-11-04_Celta Vigo v Getafe.csv.\n"
     ]
    },
    {
     "name": "stderr",
     "output_type": "stream",
     "text": [
      "\r",
      " 89%|████████████████████████████████████▎    | 416/469 [01:04<00:04, 11.78it/s]"
     ]
    },
    {
     "name": "stdout",
     "output_type": "stream",
     "text": [
      "Failed to generate feature for 2024-11-08_Rayo Vallecano v Las Palmas.csv.\n",
      "Failed to generate feature for 2024-11-09_Espanyol v Valencia.csv.\n",
      "Failed to generate feature for 2024-11-09_Getafe v Girona.csv.\n"
     ]
    },
    {
     "name": "stderr",
     "output_type": "stream",
     "text": [
      " 90%|████████████████████████████████████▋    | 420/469 [01:05<00:03, 13.20it/s]"
     ]
    },
    {
     "name": "stdout",
     "output_type": "stream",
     "text": [
      "Failed to generate feature for 2024-11-09_Real Madrid v Osasuna.csv.\n",
      "Failed to generate feature for 2024-11-09_Villarreal v Alaves.csv.\n",
      "Failed to generate feature for 2024-11-10_Betis v Celta Vigo.csv.\n",
      "Failed to generate feature for 2024-11-10_Leganes v Sevilla.csv.\n"
     ]
    },
    {
     "name": "stderr",
     "output_type": "stream",
     "text": [
      " 90%|█████████████████████████████████████    | 424/469 [01:05<00:03, 12.16it/s]"
     ]
    },
    {
     "name": "stdout",
     "output_type": "stream",
     "text": [
      "Failed to generate feature for 2024-11-10_Mallorca v Atletico Madrid.csv.\n",
      "Failed to generate feature for 2024-11-10_Real Sociedad v Barcelona.csv.\n",
      "Failed to generate feature for 2024-11-10_Valladolid v Athletic Bilbao.csv.\n"
     ]
    },
    {
     "name": "stderr",
     "output_type": "stream",
     "text": [
      "\r",
      " 91%|█████████████████████████████████████▏   | 426/469 [01:05<00:03, 11.98it/s]"
     ]
    },
    {
     "name": "stdout",
     "output_type": "stream",
     "text": [
      "Failed to generate feature for 2024-11-22_Getafe v Valladolid.csv.\n",
      "Failed to generate feature for 2024-11-23_Atletico Madrid v Alaves.csv.\n",
      "Failed to generate feature for 2024-11-23_Celta Vigo v Barcelona.csv.\n"
     ]
    },
    {
     "name": "stderr",
     "output_type": "stream",
     "text": [
      " 92%|█████████████████████████████████████▋   | 431/469 [01:05<00:02, 14.72it/s]"
     ]
    },
    {
     "name": "stdout",
     "output_type": "stream",
     "text": [
      "Failed to generate feature for 2024-11-23_Girona v Espanyol.csv.\n",
      "Failed to generate feature for 2024-11-23_Las Palmas v Mallorca.csv.\n",
      "Failed to generate feature for 2024-11-23_Valencia v Betis.csv.\n",
      "Failed to generate feature for 2024-11-24_Athletic Bilbao v Real Sociedad.csv.\n"
     ]
    },
    {
     "name": "stderr",
     "output_type": "stream",
     "text": [
      " 93%|██████████████████████████████████████   | 435/469 [01:06<00:02, 15.66it/s]"
     ]
    },
    {
     "name": "stdout",
     "output_type": "stream",
     "text": [
      "Failed to generate feature for 2024-11-24_Leganes v Real Madrid.csv.\n",
      "Failed to generate feature for 2024-11-24_Osasuna v Villarreal.csv.\n",
      "Failed to generate feature for 2024-11-24_Sevilla v Rayo Vallecano.csv.\n",
      "Failed to generate feature for 2024-12-01_Alaves v Leganes.csv.\n"
     ]
    },
    {
     "name": "stderr",
     "output_type": "stream",
     "text": [
      " 94%|██████████████████████████████████████▍  | 439/469 [01:06<00:01, 16.26it/s]"
     ]
    },
    {
     "name": "stdout",
     "output_type": "stream",
     "text": [
      "Failed to generate feature for 2024-12-01_Barcelona v Las Palmas.csv.\n",
      "Failed to generate feature for 2024-12-01_Espanyol v Celta Vigo.csv.\n",
      "Failed to generate feature for 2024-12-01_Mallorca v Valencia.csv.\n",
      "Failed to generate feature for 2024-12-01_Rayo Vallecano v Athletic Bilbao.csv.\n"
     ]
    },
    {
     "name": "stderr",
     "output_type": "stream",
     "text": [
      " 94%|██████████████████████████████████████▋  | 443/469 [01:06<00:01, 16.72it/s]"
     ]
    },
    {
     "name": "stdout",
     "output_type": "stream",
     "text": [
      "Failed to generate feature for 2024-12-01_Real Madrid v Getafe.csv.\n",
      "Failed to generate feature for 2024-12-01_Real Sociedad v Betis.csv.\n",
      "Failed to generate feature for 2024-12-01_Sevilla v Osasuna.csv.\n",
      "Failed to generate feature for 2024-12-01_Valladolid v Atletico Madrid.csv.\n"
     ]
    },
    {
     "name": "stderr",
     "output_type": "stream",
     "text": [
      " 95%|███████████████████████████████████████  | 447/469 [01:06<00:01, 16.14it/s]"
     ]
    },
    {
     "name": "stdout",
     "output_type": "stream",
     "text": [
      "Failed to generate feature for 2024-12-01_Villarreal v Girona.csv.\n",
      "Failed to generate feature for 2024-12-03_Mallorca v Barcelona.csv.\n",
      "Failed to generate feature for 2024-12-04_Athletic Bilbao v Real Madrid.csv.\n",
      "Failed to generate feature for 2024-12-06_Celta Vigo v Mallorca.csv.\n",
      "Failed to generate feature for 2024-12-07_Betis v Barcelona.csv.\n"
     ]
    },
    {
     "name": "stderr",
     "output_type": "stream",
     "text": [
      "\r",
      " 96%|███████████████████████████████████████▎ | 450/469 [01:06<00:01, 18.86it/s]"
     ]
    },
    {
     "name": "stdout",
     "output_type": "stream",
     "text": [
      "Failed to generate feature for 2024-12-07_Girona v Real Madrid.csv.\n",
      "Failed to generate feature for 2024-12-07_Las Palmas v Valladolid.csv.\n",
      "Failed to generate feature for 2024-12-07_Valencia v Rayo Vallecano.csv.\n"
     ]
    },
    {
     "name": "stderr",
     "output_type": "stream",
     "text": [
      " 97%|███████████████████████████████████████▋ | 454/469 [01:07<00:00, 16.94it/s]"
     ]
    },
    {
     "name": "stdout",
     "output_type": "stream",
     "text": [
      "Failed to generate feature for 2024-12-08_Athletic Bilbao v Villarreal.csv.\n",
      "Failed to generate feature for 2024-12-08_Atletico Madrid v Sevilla.csv.\n",
      "Failed to generate feature for 2024-12-08_Leganes v Real Sociedad.csv.\n",
      "Failed to generate feature for 2024-12-08_Osasuna v Alaves.csv.\n"
     ]
    },
    {
     "name": "stderr",
     "output_type": "stream",
     "text": [
      " 98%|████████████████████████████████████████ | 458/469 [01:07<00:00, 17.42it/s]"
     ]
    },
    {
     "name": "stdout",
     "output_type": "stream",
     "text": [
      "Failed to generate feature for 2024-12-09_Getafe v Espanyol.csv.\n",
      "Failed to generate feature for 2024-12-13_Valladolid v Valencia.csv.\n",
      "Failed to generate feature for 2024-12-14_Espanyol v Osasuna.csv.\n",
      "Failed to generate feature for 2024-12-14_Mallorca v Girona.csv.\n"
     ]
    },
    {
     "name": "stderr",
     "output_type": "stream",
     "text": [
      " 99%|████████████████████████████████████████▍| 462/469 [01:07<00:00, 17.18it/s]"
     ]
    },
    {
     "name": "stdout",
     "output_type": "stream",
     "text": [
      "Failed to generate feature for 2024-12-14_Rayo Vallecano v Real Madrid.csv.\n",
      "Failed to generate feature for 2024-12-14_Sevilla v Celta Vigo.csv.\n",
      "Failed to generate feature for 2024-12-15_Alaves v Athletic Bilbao.csv.\n",
      "Failed to generate feature for 2024-12-15_Atletico Madrid v Getafe.csv.\n"
     ]
    },
    {
     "name": "stderr",
     "output_type": "stream",
     "text": [
      "100%|████████████████████████████████████████▊| 467/469 [01:07<00:00, 17.57it/s]"
     ]
    },
    {
     "name": "stdout",
     "output_type": "stream",
     "text": [
      "Failed to generate feature for 2024-12-15_Barcelona v Leganes.csv.\n",
      "Failed to generate feature for 2024-12-15_Real Sociedad v Las Palmas.csv.\n",
      "Failed to generate feature for 2024-12-15_Villarreal v Betis.csv.\n",
      "Failed to generate feature for 2024-12-18_Espanyol v Valencia.csv.\n"
     ]
    },
    {
     "name": "stderr",
     "output_type": "stream",
     "text": [
      "100%|█████████████████████████████████████████| 469/469 [01:08<00:00,  6.89it/s]"
     ]
    },
    {
     "name": "stdout",
     "output_type": "stream",
     "text": [
      "Failed to generate feature for 2024-12-18_Villarreal v Rayo Vallecano.csv.\n",
      "Failed to generate feature for 2024-12-20_Girona v Valladolid.csv.\n"
     ]
    },
    {
     "name": "stderr",
     "output_type": "stream",
     "text": [
      "\n"
     ]
    }
   ],
   "source": [
    "from tqdm import tqdm\n",
    "rows = []\n",
    "\n",
    "for i in tqdm(range(len(all_keys))):\n",
    "    key = all_keys[i]\n",
    "    \n",
    "    try:\n",
    "        row = generate_features(key)\n",
    "        rows.append(row)\n",
    "    except:\n",
    "        print(\"Failed to generate feature for %s.\" % key)"
   ]
  },
  {
   "cell_type": "code",
   "execution_count": 51,
   "id": "cda3cd73",
   "metadata": {},
   "outputs": [],
   "source": [
    "df = pd.DataFrame.from_records(rows)"
   ]
  },
  {
   "cell_type": "code",
   "execution_count": 52,
   "id": "e8ecd765",
   "metadata": {},
   "outputs": [
    {
     "data": {
      "text/html": [
       "<div>\n",
       "<style scoped>\n",
       "    .dataframe tbody tr th:only-of-type {\n",
       "        vertical-align: middle;\n",
       "    }\n",
       "\n",
       "    .dataframe tbody tr th {\n",
       "        vertical-align: top;\n",
       "    }\n",
       "\n",
       "    .dataframe thead th {\n",
       "        text-align: right;\n",
       "    }\n",
       "</style>\n",
       "<table border=\"1\" class=\"dataframe\">\n",
       "  <thead>\n",
       "    <tr style=\"text-align: right;\">\n",
       "      <th></th>\n",
       "      <th>match_date</th>\n",
       "      <th>home_team</th>\n",
       "      <th>away_team</th>\n",
       "      <th>home_team_avg_home_goals</th>\n",
       "      <th>home_team_avg_total_goals</th>\n",
       "      <th>away_team_avg_away_goals</th>\n",
       "      <th>away_team_avg_total_goals</th>\n",
       "      <th>home_team_form_score</th>\n",
       "      <th>away_team_form_score</th>\n",
       "      <th>odds_home_team</th>\n",
       "      <th>odds_away_team</th>\n",
       "      <th>odds_draw</th>\n",
       "    </tr>\n",
       "  </thead>\n",
       "  <tbody>\n",
       "    <tr>\n",
       "      <th>0</th>\n",
       "      <td>2023-08-13</td>\n",
       "      <td>Athletic Bilbao</td>\n",
       "      <td>Real Madrid</td>\n",
       "      <td>0.0</td>\n",
       "      <td>0.0</td>\n",
       "      <td>2.0</td>\n",
       "      <td>2.0</td>\n",
       "      <td>-0.5</td>\n",
       "      <td>0.5</td>\n",
       "      <td>1000.00</td>\n",
       "      <td>1.01</td>\n",
       "      <td>1000.00</td>\n",
       "    </tr>\n",
       "    <tr>\n",
       "      <th>1</th>\n",
       "      <td>2023-08-13</td>\n",
       "      <td>Las Palmas</td>\n",
       "      <td>Mallorca</td>\n",
       "      <td>1.0</td>\n",
       "      <td>1.0</td>\n",
       "      <td>1.0</td>\n",
       "      <td>1.0</td>\n",
       "      <td>0.0</td>\n",
       "      <td>0.0</td>\n",
       "      <td>300.00</td>\n",
       "      <td>110.00</td>\n",
       "      <td>1.01</td>\n",
       "    </tr>\n",
       "    <tr>\n",
       "      <th>2</th>\n",
       "      <td>2023-08-13</td>\n",
       "      <td>Real Sociedad</td>\n",
       "      <td>Girona</td>\n",
       "      <td>1.0</td>\n",
       "      <td>1.0</td>\n",
       "      <td>1.0</td>\n",
       "      <td>1.0</td>\n",
       "      <td>0.0</td>\n",
       "      <td>0.0</td>\n",
       "      <td>160.00</td>\n",
       "      <td>140.00</td>\n",
       "      <td>1.01</td>\n",
       "    </tr>\n",
       "    <tr>\n",
       "      <th>3</th>\n",
       "      <td>2023-08-13</td>\n",
       "      <td>Sevilla</td>\n",
       "      <td>Valencia</td>\n",
       "      <td>1.0</td>\n",
       "      <td>1.0</td>\n",
       "      <td>2.0</td>\n",
       "      <td>2.0</td>\n",
       "      <td>-0.5</td>\n",
       "      <td>0.5</td>\n",
       "      <td>1000.00</td>\n",
       "      <td>1.01</td>\n",
       "      <td>150.00</td>\n",
       "    </tr>\n",
       "    <tr>\n",
       "      <th>4</th>\n",
       "      <td>2023-08-20</td>\n",
       "      <td>Alaves</td>\n",
       "      <td>Sevilla</td>\n",
       "      <td>0.0</td>\n",
       "      <td>0.0</td>\n",
       "      <td>0.0</td>\n",
       "      <td>1.0</td>\n",
       "      <td>-0.5</td>\n",
       "      <td>-0.5</td>\n",
       "      <td>3.65</td>\n",
       "      <td>2.46</td>\n",
       "      <td>3.20</td>\n",
       "    </tr>\n",
       "    <tr>\n",
       "      <th>...</th>\n",
       "      <td>...</td>\n",
       "      <td>...</td>\n",
       "      <td>...</td>\n",
       "      <td>...</td>\n",
       "      <td>...</td>\n",
       "      <td>...</td>\n",
       "      <td>...</td>\n",
       "      <td>...</td>\n",
       "      <td>...</td>\n",
       "      <td>...</td>\n",
       "      <td>...</td>\n",
       "      <td>...</td>\n",
       "    </tr>\n",
       "    <tr>\n",
       "      <th>255</th>\n",
       "      <td>2024-08-23</td>\n",
       "      <td>Sevilla</td>\n",
       "      <td>Villarreal</td>\n",
       "      <td>0.0</td>\n",
       "      <td>2.0</td>\n",
       "      <td>0.0</td>\n",
       "      <td>2.0</td>\n",
       "      <td>0.0</td>\n",
       "      <td>0.0</td>\n",
       "      <td>2.32</td>\n",
       "      <td>3.35</td>\n",
       "      <td>3.70</td>\n",
       "    </tr>\n",
       "    <tr>\n",
       "      <th>256</th>\n",
       "      <td>2024-08-24</td>\n",
       "      <td>Barcelona</td>\n",
       "      <td>Athletic Bilbao</td>\n",
       "      <td>0.0</td>\n",
       "      <td>2.0</td>\n",
       "      <td>0.0</td>\n",
       "      <td>1.0</td>\n",
       "      <td>0.5</td>\n",
       "      <td>0.0</td>\n",
       "      <td>1.69</td>\n",
       "      <td>5.80</td>\n",
       "      <td>4.20</td>\n",
       "    </tr>\n",
       "    <tr>\n",
       "      <th>257</th>\n",
       "      <td>2024-08-24</td>\n",
       "      <td>Espanyol</td>\n",
       "      <td>Real Sociedad</td>\n",
       "      <td>0.0</td>\n",
       "      <td>0.0</td>\n",
       "      <td>0.0</td>\n",
       "      <td>1.0</td>\n",
       "      <td>-0.5</td>\n",
       "      <td>-0.5</td>\n",
       "      <td>4.00</td>\n",
       "      <td>2.30</td>\n",
       "      <td>3.15</td>\n",
       "    </tr>\n",
       "    <tr>\n",
       "      <th>258</th>\n",
       "      <td>2024-08-24</td>\n",
       "      <td>Getafe</td>\n",
       "      <td>Rayo Vallecano</td>\n",
       "      <td>0.0</td>\n",
       "      <td>1.0</td>\n",
       "      <td>2.0</td>\n",
       "      <td>2.0</td>\n",
       "      <td>0.0</td>\n",
       "      <td>0.5</td>\n",
       "      <td>2.76</td>\n",
       "      <td>3.25</td>\n",
       "      <td>3.00</td>\n",
       "    </tr>\n",
       "    <tr>\n",
       "      <th>259</th>\n",
       "      <td>2024-08-24</td>\n",
       "      <td>Osasuna</td>\n",
       "      <td>Mallorca</td>\n",
       "      <td>1.0</td>\n",
       "      <td>1.0</td>\n",
       "      <td>0.0</td>\n",
       "      <td>1.0</td>\n",
       "      <td>0.0</td>\n",
       "      <td>0.0</td>\n",
       "      <td>2.58</td>\n",
       "      <td>3.35</td>\n",
       "      <td>3.20</td>\n",
       "    </tr>\n",
       "  </tbody>\n",
       "</table>\n",
       "<p>260 rows × 12 columns</p>\n",
       "</div>"
      ],
      "text/plain": [
       "     match_date        home_team        away_team home_team_avg_home_goals  \\\n",
       "0    2023-08-13  Athletic Bilbao      Real Madrid                      0.0   \n",
       "1    2023-08-13       Las Palmas         Mallorca                      1.0   \n",
       "2    2023-08-13    Real Sociedad           Girona                      1.0   \n",
       "3    2023-08-13          Sevilla         Valencia                      1.0   \n",
       "4    2023-08-20           Alaves          Sevilla                      0.0   \n",
       "..          ...              ...              ...                      ...   \n",
       "255  2024-08-23          Sevilla       Villarreal                      0.0   \n",
       "256  2024-08-24        Barcelona  Athletic Bilbao                      0.0   \n",
       "257  2024-08-24         Espanyol    Real Sociedad                      0.0   \n",
       "258  2024-08-24           Getafe   Rayo Vallecano                      0.0   \n",
       "259  2024-08-24          Osasuna         Mallorca                      1.0   \n",
       "\n",
       "    home_team_avg_total_goals away_team_avg_away_goals  \\\n",
       "0                         0.0                      2.0   \n",
       "1                         1.0                      1.0   \n",
       "2                         1.0                      1.0   \n",
       "3                         1.0                      2.0   \n",
       "4                         0.0                      0.0   \n",
       "..                        ...                      ...   \n",
       "255                       2.0                      0.0   \n",
       "256                       2.0                      0.0   \n",
       "257                       0.0                      0.0   \n",
       "258                       1.0                      2.0   \n",
       "259                       1.0                      0.0   \n",
       "\n",
       "    away_team_avg_total_goals  home_team_form_score  away_team_form_score  \\\n",
       "0                         2.0                  -0.5                   0.5   \n",
       "1                         1.0                   0.0                   0.0   \n",
       "2                         1.0                   0.0                   0.0   \n",
       "3                         2.0                  -0.5                   0.5   \n",
       "4                         1.0                  -0.5                  -0.5   \n",
       "..                        ...                   ...                   ...   \n",
       "255                       2.0                   0.0                   0.0   \n",
       "256                       1.0                   0.5                   0.0   \n",
       "257                       1.0                  -0.5                  -0.5   \n",
       "258                       2.0                   0.0                   0.5   \n",
       "259                       1.0                   0.0                   0.0   \n",
       "\n",
       "     odds_home_team  odds_away_team  odds_draw  \n",
       "0           1000.00            1.01    1000.00  \n",
       "1            300.00          110.00       1.01  \n",
       "2            160.00          140.00       1.01  \n",
       "3           1000.00            1.01     150.00  \n",
       "4              3.65            2.46       3.20  \n",
       "..              ...             ...        ...  \n",
       "255            2.32            3.35       3.70  \n",
       "256            1.69            5.80       4.20  \n",
       "257            4.00            2.30       3.15  \n",
       "258            2.76            3.25       3.00  \n",
       "259            2.58            3.35       3.20  \n",
       "\n",
       "[260 rows x 12 columns]"
      ]
     },
     "execution_count": 52,
     "metadata": {},
     "output_type": "execute_result"
    }
   ],
   "source": [
    "df"
   ]
  },
  {
   "cell_type": "code",
   "execution_count": null,
   "id": "90631ec3",
   "metadata": {},
   "outputs": [],
   "source": []
  }
 ],
 "metadata": {
  "kernelspec": {
   "display_name": "Python 3 (ipykernel)",
   "language": "python",
   "name": "python3"
  },
  "language_info": {
   "codemirror_mode": {
    "name": "ipython",
    "version": 3
   },
   "file_extension": ".py",
   "mimetype": "text/x-python",
   "name": "python",
   "nbconvert_exporter": "python",
   "pygments_lexer": "ipython3",
   "version": "3.9.13"
  }
 },
 "nbformat": 4,
 "nbformat_minor": 5
}
