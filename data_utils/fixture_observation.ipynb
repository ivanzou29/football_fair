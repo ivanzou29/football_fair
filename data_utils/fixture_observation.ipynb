{
 "cells": [
  {
   "cell_type": "markdown",
   "id": "2e2a7501",
   "metadata": {},
   "source": [
    "# Fixture Observation\n",
    "\n",
    "#### This script creates a fixture observation for each match, combining the home and away teams statistics, as well as the prediction target - pre-match odds"
   ]
  },
  {
   "cell_type": "code",
   "execution_count": null,
   "id": "2d8f837f",
   "metadata": {},
   "outputs": [],
   "source": [
    "import boto3\n",
    "import pandas as pd\n",
    "import numpy as np\n",
    "import json\n",
    "from io import StringIO\n",
    "\n",
    "\n",
    "s3 = boto3.resource('s3')\n",
    "bucket_name = 'betfairex'\n",
    "\n",
    "\n",
    "def read_csv_from_s3(bucket_name, object_key):\n",
    "    response = s3.Object(bucket_name, object_key).get()\n",
    "\n",
    "    s3_contents = response['Body'].read()\n",
    "    df = pd.read_csv(StringIO(s3_contents.decode('utf-8')))\n",
    "\n",
    "    return df"
   ]
  },
  {
   "cell_type": "code",
   "execution_count": null,
   "id": "c683d1a3",
   "metadata": {},
   "outputs": [],
   "source": [
    "bucket = s3.Bucket(bucket_name)"
   ]
  },
  {
   "cell_type": "code",
   "execution_count": null,
   "id": "6d99a4ee",
   "metadata": {},
   "outputs": [],
   "source": [
    "all_keys = [obj.key for obj in bucket.objects.all()]\n",
    "\n",
    "# keys are in the regular expression as follows:\n",
    "# YYYY-MM-DD_[HOME_TEAM] v [AWAY_TEAM].csv"
   ]
  },
  {
   "cell_type": "code",
   "execution_count": null,
   "id": "7397a17d",
   "metadata": {},
   "outputs": [],
   "source": [
    "all_keys[-1]"
   ]
  },
  {
   "cell_type": "code",
   "execution_count": null,
   "id": "1d128060",
   "metadata": {},
   "outputs": [],
   "source": [
    "LEAGUE_INFO = pd.read_csv('league_info.csv')\n",
    "TEAM_INFO = pd.read_csv('team_info.csv')\n",
    "\n",
    "def get_match_info(object_key):\n",
    "    match_name = object_key[:-4]\n",
    "    match_date_str = match_name.split('_')[0]\n",
    "    fixture = match_name.split('_')[1]\n",
    "    home_team = fixture.split(' v ')[0]\n",
    "    away_team = fixture.split(' v ')[1]\n",
    "    \n",
    "    match_info = {\n",
    "        'match_date': match_date_str,\n",
    "        'home_team': home_team,\n",
    "        'away_team': away_team,\n",
    "    }    \n",
    "    return match_info\n",
    "\n",
    "def get_betfair_exchange_prematch_odds(bucket_name, object_key):\n",
    "    match_info = get_match_info(object_key)\n",
    "    \n",
    "    odds_df = read_csv_from_s3(bucket_name, object_key)\n",
    "    \n",
    "    odds_df = odds_df.sort_values(\"timestamp\", ascending=True)\n",
    "    prematch_df = odds_df[~odds_df['inplay']]\n",
    "    \n",
    "    home_team_df = prematch_df[prematch_df['selection'] == match_info['home_team']]\n",
    "    away_team_df = prematch_df[prematch_df['selection'] == match_info['away_team']]\n",
    "    draw_df = prematch_df[prematch_df['selection'] == \"Draw\"]\n",
    "    \n",
    "    home_prematch_odds = home_team_df.tail(1)['odds'].iloc[0]\n",
    "    away_prematch_odds = away_team_df.tail(1)['odds'].iloc[0]\n",
    "    draw_prematch_odds = draw_df.tail(1)['odds'].iloc[0]\n",
    "    \n",
    "    prematch_odds = {\n",
    "        'match_date': match_info['match_date'],\n",
    "        match_info['home_team']: home_prematch_odds,\n",
    "        match_info['away_team']: away_prematch_odds,\n",
    "        'Draw': draw_prematch_odds\n",
    "    }\n",
    "    return prematch_odds    \n",
    "    "
   ]
  },
  {
   "cell_type": "code",
   "execution_count": null,
   "id": "701936c8",
   "metadata": {},
   "outputs": [],
   "source": [
    "# Configuration constants\n",
    "\n",
    "SERVER = \"v3.football.api-sports.io\"\n",
    "API_KEY = \"1f5008c4f33481203631d90c7a81c5e5\"\n",
    "\n",
    "from pandas.tseries.offsets import Day\n",
    "import http.client\n",
    "import datetime as dt\n",
    "\n",
    "SERVER = \"v3.football.api-sports.io\"\n",
    "\n",
    "\n",
    "\n",
    "conn = http.client.HTTPSConnection(SERVER)\n",
    "\n",
    "headers = {\n",
    "  'x-rapidapi-host': SERVER,\n",
    "  'x-rapidapi-key': API_KEY\n",
    "}\n",
    "\n",
    "\n",
    "def get_team_stats(season, league_id, team_id, as_of_date):\n",
    "    # as_of_date in format YYYY-MM-DD\n",
    "    conn.request(\"GET\", \"/teams/statistics?season=%s&league=%s&team=%s&date=%s\" % (season, league_id, team_id, as_of_date), headers=headers)\n",
    "    res = conn.getresponse()\n",
    "    data = res.read()\n",
    "\n",
    "    team_stats_raw = data.decode(\"utf-8\")\n",
    "    team_stats = json.loads(team_stats_raw)[\"response\"]\n",
    "    \n",
    "    return team_stats\n",
    "    \n",
    "\n",
    "def get_team_stats_for_fixture(object_key):\n",
    "    match_info = get_match_info(object_key)\n",
    "    \n",
    "    match_date = match_info['match_date']\n",
    "    as_of_date = dt.datetime.strptime(match_date, \"%Y-%m-%d\") - Day(1)\n",
    "    as_of_date = as_of_date.strftime(\"%Y-%m-%d\")\n",
    "    \n",
    "    season = match_date[:4]\n",
    "    \n",
    "    home_team = match_info['home_team']\n",
    "    home_team_info = TEAM_INFO.query(\"name == @home_team\").to_dict('records')[0]\n",
    "    home_team_id = home_team_info['team_id']\n",
    "    home_team_league_id = home_team_info['league_id']\n",
    "    home_team_stats = get_team_stats(season, home_team_league_id, home_team_id, as_of_date)\n",
    "    \n",
    "    away_team = match_info['away_team']\n",
    "    away_team_info = TEAM_INFO.query(\"name == @away_team\").to_dict('records')[0]\n",
    "    away_team_id = away_team_info['team_id']\n",
    "    away_team_league_id = away_team_info['league_id']\n",
    "    away_team_stats = get_team_stats(season, away_team_league_id, away_team_id, as_of_date)\n",
    "    \n",
    "    return home_team_stats, away_team_stats\n",
    "    "
   ]
  },
  {
   "cell_type": "code",
   "execution_count": null,
   "id": "cc6dd629",
   "metadata": {},
   "outputs": [],
   "source": [
    "home_team_stats, away_team_stats = get_team_stats_for_fixture(all_keys[-1])"
   ]
  },
  {
   "cell_type": "code",
   "execution_count": null,
   "id": "43c9f8a8",
   "metadata": {},
   "outputs": [],
   "source": [
    "home_team_stats"
   ]
  },
  {
   "cell_type": "code",
   "execution_count": null,
   "id": "5e81be12",
   "metadata": {},
   "outputs": [],
   "source": [
    "away_team_stats"
   ]
  },
  {
   "cell_type": "code",
   "execution_count": null,
   "id": "9e85ed40",
   "metadata": {},
   "outputs": [],
   "source": []
  }
 ],
 "metadata": {
  "kernelspec": {
   "display_name": "Python 3 (ipykernel)",
   "language": "python",
   "name": "python3"
  },
  "language_info": {
   "codemirror_mode": {
    "name": "ipython",
    "version": 3
   },
   "file_extension": ".py",
   "mimetype": "text/x-python",
   "name": "python",
   "nbconvert_exporter": "python",
   "pygments_lexer": "ipython3",
   "version": "3.9.13"
  }
 },
 "nbformat": 4,
 "nbformat_minor": 5
}
